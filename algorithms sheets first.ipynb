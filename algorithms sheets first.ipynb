{
 "cells": [
  {
   "cell_type": "markdown",
   "metadata": {
    "toc": true
   },
   "source": [
    "<h1>Table of Contents<span class=\"tocSkip\"></span></h1>\n",
    "<div class=\"toc\"><ul class=\"toc-item\"><li><span><a href=\"#はじめに\" data-toc-modified-id=\"はじめに-0\"><span class=\"toc-item-num\">0&nbsp;&nbsp;</span>はじめに</a></span></li><li><span><a href=\"#全検索\" data-toc-modified-id=\"全検索-1\"><span class=\"toc-item-num\">1&nbsp;&nbsp;</span>全検索</a></span><ul class=\"toc-item\"><li><span><a href=\"#bit-全検索\" data-toc-modified-id=\"bit-全検索-1.1\"><span class=\"toc-item-num\">1.1&nbsp;&nbsp;</span>bit 全検索</a></span></li><li><span><a href=\"#深さ優先検索\" data-toc-modified-id=\"深さ優先検索-1.2\"><span class=\"toc-item-num\">1.2&nbsp;&nbsp;</span>深さ優先検索</a></span></li><li><span><a href=\"#幅優先検索\" data-toc-modified-id=\"幅優先検索-1.3\"><span class=\"toc-item-num\">1.3&nbsp;&nbsp;</span>幅優先検索</a></span></li><li><span><a href=\"#next-permutation\" data-toc-modified-id=\"next-permutation-1.4\"><span class=\"toc-item-num\">1.4&nbsp;&nbsp;</span>next permutation</a></span></li></ul></li><li><span><a href=\"#よく出るテクニック\" data-toc-modified-id=\"よく出るテクニック-2\"><span class=\"toc-item-num\">2&nbsp;&nbsp;</span>よく出るテクニック</a></span><ul class=\"toc-item\"><li><span><a href=\"#二分探索\" data-toc-modified-id=\"二分探索-2.1\"><span class=\"toc-item-num\">2.1&nbsp;&nbsp;</span>二分探索</a></span></li><li><span><a href=\"#しゃくとり法\" data-toc-modified-id=\"しゃくとり法-2.2\"><span class=\"toc-item-num\">2.2&nbsp;&nbsp;</span>しゃくとり法</a></span></li><li><span><a href=\"#累積和\" data-toc-modified-id=\"累積和-2.3\"><span class=\"toc-item-num\">2.3&nbsp;&nbsp;</span>累積和</a></span></li><li><span><a href=\"#半分全列挙\" data-toc-modified-id=\"半分全列挙-2.4\"><span class=\"toc-item-num\">2.4&nbsp;&nbsp;</span>半分全列挙</a></span></li><li><span><a href=\"#貪欲法\" data-toc-modified-id=\"貪欲法-2.5\"><span class=\"toc-item-num\">2.5&nbsp;&nbsp;</span>貪欲法</a></span></li><li><span><a href=\"#座標圧縮\" data-toc-modified-id=\"座標圧縮-2.6\"><span class=\"toc-item-num\">2.6&nbsp;&nbsp;</span>座標圧縮</a></span></li><li><span><a href=\"#スタックとキュー\" data-toc-modified-id=\"スタックとキュー-2.7\"><span class=\"toc-item-num\">2.7&nbsp;&nbsp;</span>スタックとキュー</a></span></li><li><span><a href=\"#枝刈りと$\\alpha$-$\\beta$探索\" data-toc-modified-id=\"枝刈りと$\\alpha$-$\\beta$探索-2.8\"><span class=\"toc-item-num\">2.8&nbsp;&nbsp;</span>枝刈りと$\\alpha$-$\\beta$探索</a></span></li><li><span><a href=\"#分割統治法\" data-toc-modified-id=\"分割統治法-2.9\"><span class=\"toc-item-num\">2.9&nbsp;&nbsp;</span>分割統治法</a></span></li><li><span><a href=\"#その他\" data-toc-modified-id=\"その他-2.10\"><span class=\"toc-item-num\">2.10&nbsp;&nbsp;</span>その他</a></span></li></ul></li><li><span><a href=\"#動的計画法\" data-toc-modified-id=\"動的計画法-3\"><span class=\"toc-item-num\">3&nbsp;&nbsp;</span>動的計画法</a></span><ul class=\"toc-item\"><li><span><a href=\"#メモ化再帰\" data-toc-modified-id=\"メモ化再帰-3.1\"><span class=\"toc-item-num\">3.1&nbsp;&nbsp;</span>メモ化再帰</a></span></li><li><span><a href=\"#ナップザック問題\" data-toc-modified-id=\"ナップザック問題-3.2\"><span class=\"toc-item-num\">3.2&nbsp;&nbsp;</span>ナップザック問題</a></span></li><li><span><a href=\"#最長増加列問題\" data-toc-modified-id=\"最長増加列問題-3.3\"><span class=\"toc-item-num\">3.3&nbsp;&nbsp;</span>最長増加列問題</a></span></li><li><span><a href=\"#文字列DP\" data-toc-modified-id=\"文字列DP-3.4\"><span class=\"toc-item-num\">3.4&nbsp;&nbsp;</span>文字列DP</a></span></li><li><span><a href=\"#木DP\" data-toc-modified-id=\"木DP-3.5\"><span class=\"toc-item-num\">3.5&nbsp;&nbsp;</span>木DP</a></span></li><li><span><a href=\"#桁DP\" data-toc-modified-id=\"桁DP-3.6\"><span class=\"toc-item-num\">3.6&nbsp;&nbsp;</span>桁DP</a></span></li><li><span><a href=\"#ゲームDP\" data-toc-modified-id=\"ゲームDP-3.7\"><span class=\"toc-item-num\">3.7&nbsp;&nbsp;</span>ゲームDP</a></span></li><li><span><a href=\"#bit-DP\" data-toc-modified-id=\"bit-DP-3.8\"><span class=\"toc-item-num\">3.8&nbsp;&nbsp;</span>bit DP</a></span></li><li><span><a href=\"#行列累乗\" data-toc-modified-id=\"行列累乗-3.9\"><span class=\"toc-item-num\">3.9&nbsp;&nbsp;</span>行列累乗</a></span></li><li><span><a href=\"#インラインDP\" data-toc-modified-id=\"インラインDP-3.10\"><span class=\"toc-item-num\">3.10&nbsp;&nbsp;</span>インラインDP</a></span></li><li><span><a href=\"#Convex-Hull-Trick\" data-toc-modified-id=\"Convex-Hull-Trick-3.11\"><span class=\"toc-item-num\">3.11&nbsp;&nbsp;</span>Convex Hull Trick</a></span></li><li><span><a href=\"#その他1-setを使ったDP\" data-toc-modified-id=\"その他1-setを使ったDP-3.12\"><span class=\"toc-item-num\">3.12&nbsp;&nbsp;</span>その他1 setを使ったDP</a></span></li><li><span><a href=\"#その他2-辞書を使ったDP\" data-toc-modified-id=\"その他2-辞書を使ったDP-3.13\"><span class=\"toc-item-num\">3.13&nbsp;&nbsp;</span>その他2 辞書を使ったDP</a></span></li><li><span><a href=\"#その他\" data-toc-modified-id=\"その他-3.14\"><span class=\"toc-item-num\">3.14&nbsp;&nbsp;</span>その他</a></span></li></ul></li><li><span><a href=\"#データ構造\" data-toc-modified-id=\"データ構造-4\"><span class=\"toc-item-num\">4&nbsp;&nbsp;</span>データ構造</a></span><ul class=\"toc-item\"><li><span><a href=\"#Unionfind-tree\" data-toc-modified-id=\"Unionfind-tree-4.1\"><span class=\"toc-item-num\">4.1&nbsp;&nbsp;</span>Unionfind tree</a></span></li><li><span><a href=\"#重み付きUnionfind-tree\" data-toc-modified-id=\"重み付きUnionfind-tree-4.2\"><span class=\"toc-item-num\">4.2&nbsp;&nbsp;</span>重み付きUnionfind tree</a></span></li><li><span><a href=\"#Priority-queue\" data-toc-modified-id=\"Priority-queue-4.3\"><span class=\"toc-item-num\">4.3&nbsp;&nbsp;</span>Priority queue</a></span></li><li><span><a href=\"#最適二分探索木\" data-toc-modified-id=\"最適二分探索木-4.4\"><span class=\"toc-item-num\">4.4&nbsp;&nbsp;</span>最適二分探索木</a></span></li><li><span><a href=\"#平行二分木\" data-toc-modified-id=\"平行二分木-4.5\"><span class=\"toc-item-num\">4.5&nbsp;&nbsp;</span>平行二分木</a></span></li><li><span><a href=\"#セグメントツリー\" data-toc-modified-id=\"セグメントツリー-4.6\"><span class=\"toc-item-num\">4.6&nbsp;&nbsp;</span>セグメントツリー</a></span></li><li><span><a href=\"#Binary-Index-Tree\" data-toc-modified-id=\"Binary-Index-Tree-4.7\"><span class=\"toc-item-num\">4.7&nbsp;&nbsp;</span>Binary Index Tree</a></span></li><li><span><a href=\"#遅延評価つきセグメントツリー\" data-toc-modified-id=\"遅延評価つきセグメントツリー-4.8\"><span class=\"toc-item-num\">4.8&nbsp;&nbsp;</span>遅延評価つきセグメントツリー</a></span></li><li><span><a href=\"#Sparse-Table\" data-toc-modified-id=\"Sparse-Table-4.9\"><span class=\"toc-item-num\">4.9&nbsp;&nbsp;</span>Sparse Table</a></span></li><li><span><a href=\"#Starry-Sky-Tree\" data-toc-modified-id=\"Starry-Sky-Tree-4.10\"><span class=\"toc-item-num\">4.10&nbsp;&nbsp;</span>Starry Sky Tree</a></span></li><li><span><a href=\"#平方分割\" data-toc-modified-id=\"平方分割-4.11\"><span class=\"toc-item-num\">4.11&nbsp;&nbsp;</span>平方分割</a></span></li><li><span><a href=\"#bitset高速化\" data-toc-modified-id=\"bitset高速化-4.12\"><span class=\"toc-item-num\">4.12&nbsp;&nbsp;</span>bitset高速化</a></span></li><li><span><a href=\"#Meldable-Heap\" data-toc-modified-id=\"Meldable-Heap-4.13\"><span class=\"toc-item-num\">4.13&nbsp;&nbsp;</span>Meldable Heap</a></span></li><li><span><a href=\"#その他\" data-toc-modified-id=\"その他-4.14\"><span class=\"toc-item-num\">4.14&nbsp;&nbsp;</span>その他</a></span></li></ul></li><li><span><a href=\"#グラフ問題\" data-toc-modified-id=\"グラフ問題-5\"><span class=\"toc-item-num\">5&nbsp;&nbsp;</span>グラフ問題</a></span><ul class=\"toc-item\"><li><span><a href=\"#最短路問題\" data-toc-modified-id=\"最短路問題-5.1\"><span class=\"toc-item-num\">5.1&nbsp;&nbsp;</span>最短路問題</a></span><ul class=\"toc-item\"><li><span><a href=\"#ダイクストラ法\" data-toc-modified-id=\"ダイクストラ法-5.1.1\"><span class=\"toc-item-num\">5.1.1&nbsp;&nbsp;</span>ダイクストラ法</a></span></li><li><span><a href=\"#ベルマンフォード法\" data-toc-modified-id=\"ベルマンフォード法-5.1.2\"><span class=\"toc-item-num\">5.1.2&nbsp;&nbsp;</span>ベルマンフォード法</a></span></li><li><span><a href=\"#ワーシャルフロイド法\" data-toc-modified-id=\"ワーシャルフロイド法-5.1.3\"><span class=\"toc-item-num\">5.1.3&nbsp;&nbsp;</span>ワーシャルフロイド法</a></span></li><li><span><a href=\"#0-1-BFS\" data-toc-modified-id=\"0-1-BFS-5.1.4\"><span class=\"toc-item-num\">5.1.4&nbsp;&nbsp;</span>0-1 BFS</a></span></li></ul></li><li><span><a href=\"#最小全域木\" data-toc-modified-id=\"最小全域木-5.2\"><span class=\"toc-item-num\">5.2&nbsp;&nbsp;</span>最小全域木</a></span><ul class=\"toc-item\"><li><span><a href=\"#プリム法\" data-toc-modified-id=\"プリム法-5.2.1\"><span class=\"toc-item-num\">5.2.1&nbsp;&nbsp;</span>プリム法</a></span></li><li><span><a href=\"#クラスカル法\" data-toc-modified-id=\"クラスカル法-5.2.2\"><span class=\"toc-item-num\">5.2.2&nbsp;&nbsp;</span>クラスカル法</a></span></li></ul></li><li><span><a href=\"#最大流最小カット\" data-toc-modified-id=\"最大流最小カット-5.3\"><span class=\"toc-item-num\">5.3&nbsp;&nbsp;</span>最大流最小カット</a></span><ul class=\"toc-item\"><li><span><a href=\"#フォードファルカーソン法\" data-toc-modified-id=\"フォードファルカーソン法-5.3.1\"><span class=\"toc-item-num\">5.3.1&nbsp;&nbsp;</span>フォードファルカーソン法</a></span></li><li><span><a href=\"#ディニック法\" data-toc-modified-id=\"ディニック法-5.3.2\"><span class=\"toc-item-num\">5.3.2&nbsp;&nbsp;</span>ディニック法</a></span></li><li><span><a href=\"#燃やす埋める問題\" data-toc-modified-id=\"燃やす埋める問題-5.3.3\"><span class=\"toc-item-num\">5.3.3&nbsp;&nbsp;</span>燃やす埋める問題</a></span></li><li><span><a href=\"#最小費用流\" data-toc-modified-id=\"最小費用流-5.3.4\"><span class=\"toc-item-num\">5.3.4&nbsp;&nbsp;</span>最小費用流</a></span></li></ul></li><li><span><a href=\"#グラフ用語集&amp;忘れやすい事柄\" data-toc-modified-id=\"グラフ用語集&amp;忘れやすい事柄-5.4\"><span class=\"toc-item-num\">5.4&nbsp;&nbsp;</span>グラフ用語集&amp;忘れやすい事柄</a></span><ul class=\"toc-item\"><li><span><a href=\"#二部グラフ\" data-toc-modified-id=\"二部グラフ-5.4.1\"><span class=\"toc-item-num\">5.4.1&nbsp;&nbsp;</span>二部グラフ</a></span></li><li><span><a href=\"#二部マッチング\" data-toc-modified-id=\"二部マッチング-5.4.2\"><span class=\"toc-item-num\">5.4.2&nbsp;&nbsp;</span>二部マッチング</a></span></li><li><span><a href=\"#最大独立集合問題\" data-toc-modified-id=\"最大独立集合問題-5.4.3\"><span class=\"toc-item-num\">5.4.3&nbsp;&nbsp;</span>最大独立集合問題</a></span></li><li><span><a href=\"#クリークと独立集合\" data-toc-modified-id=\"クリークと独立集合-5.4.4\"><span class=\"toc-item-num\">5.4.4&nbsp;&nbsp;</span>クリークと独立集合</a></span></li><li><span><a href=\"#最小点カバーなど\" data-toc-modified-id=\"最小点カバーなど-5.4.5\"><span class=\"toc-item-num\">5.4.5&nbsp;&nbsp;</span>最小点カバーなど</a></span></li></ul></li><li><span><a href=\"#トポロジカルソート\" data-toc-modified-id=\"トポロジカルソート-5.5\"><span class=\"toc-item-num\">5.5&nbsp;&nbsp;</span>トポロジカルソート</a></span><ul class=\"toc-item\"><li><span><a href=\"#トポロジカルソート\" data-toc-modified-id=\"トポロジカルソート-5.5.1\"><span class=\"toc-item-num\">5.5.1&nbsp;&nbsp;</span>トポロジカルソート</a></span></li><li><span><a href=\"#トポロジカルソートの数え上げ\" data-toc-modified-id=\"トポロジカルソートの数え上げ-5.5.2\"><span class=\"toc-item-num\">5.5.2&nbsp;&nbsp;</span>トポロジカルソートの数え上げ</a></span></li></ul></li><li><span><a href=\"#強連結分解\" data-toc-modified-id=\"強連結分解-5.6\"><span class=\"toc-item-num\">5.6&nbsp;&nbsp;</span>強連結分解</a></span></li><li><span><a href=\"#2-SAT\" data-toc-modified-id=\"2-SAT-5.7\"><span class=\"toc-item-num\">5.7&nbsp;&nbsp;</span>2-SAT</a></span></li><li><span><a href=\"#LCA\" data-toc-modified-id=\"LCA-5.8\"><span class=\"toc-item-num\">5.8&nbsp;&nbsp;</span>LCA</a></span></li><li><span><a href=\"#Euler-Tour\" data-toc-modified-id=\"Euler-Tour-5.9\"><span class=\"toc-item-num\">5.9&nbsp;&nbsp;</span>Euler Tour</a></span></li><li><span><a href=\"#オイラー閉路\" data-toc-modified-id=\"オイラー閉路-5.10\"><span class=\"toc-item-num\">5.10&nbsp;&nbsp;</span>オイラー閉路</a></span></li><li><span><a href=\"#HL-分解\" data-toc-modified-id=\"HL-分解-5.11\"><span class=\"toc-item-num\">5.11&nbsp;&nbsp;</span>HL 分解</a></span></li><li><span><a href=\"#ツリーの重心分解\" data-toc-modified-id=\"ツリーの重心分解-5.12\"><span class=\"toc-item-num\">5.12&nbsp;&nbsp;</span>ツリーの重心分解</a></span></li><li><span><a href=\"#二重辺連結成分分解\" data-toc-modified-id=\"二重辺連結成分分解-5.13\"><span class=\"toc-item-num\">5.13&nbsp;&nbsp;</span>二重辺連結成分分解</a></span></li><li><span><a href=\"#最小有向木\" data-toc-modified-id=\"最小有向木-5.14\"><span class=\"toc-item-num\">5.14&nbsp;&nbsp;</span>最小有向木</a></span></li><li><span><a href=\"#その他\" data-toc-modified-id=\"その他-5.15\"><span class=\"toc-item-num\">5.15&nbsp;&nbsp;</span>その他</a></span></li></ul></li><li><span><a href=\"#数学\" data-toc-modified-id=\"数学-6\"><span class=\"toc-item-num\">6&nbsp;&nbsp;</span>数学</a></span><ul class=\"toc-item\"><li><span><a href=\"#ユークリッドの互除法\" data-toc-modified-id=\"ユークリッドの互除法-6.1\"><span class=\"toc-item-num\">6.1&nbsp;&nbsp;</span>ユークリッドの互除法</a></span></li><li><span><a href=\"#中国人剰余定理\" data-toc-modified-id=\"中国人剰余定理-6.2\"><span class=\"toc-item-num\">6.2&nbsp;&nbsp;</span>中国人剰余定理</a></span></li><li><span><a href=\"#約数\" data-toc-modified-id=\"約数-6.3\"><span class=\"toc-item-num\">6.3&nbsp;&nbsp;</span>約数</a></span><ul class=\"toc-item\"><li><span><a href=\"#素因数分解\" data-toc-modified-id=\"素因数分解-6.3.1\"><span class=\"toc-item-num\">6.3.1&nbsp;&nbsp;</span>素因数分解</a></span></li><li><span><a href=\"#オイラー関数\" data-toc-modified-id=\"オイラー関数-6.3.2\"><span class=\"toc-item-num\">6.3.2&nbsp;&nbsp;</span>オイラー関数</a></span></li></ul></li><li><span><a href=\"#素数\" data-toc-modified-id=\"素数-6.4\"><span class=\"toc-item-num\">6.4&nbsp;&nbsp;</span>素数</a></span><ul class=\"toc-item\"><li><span><a href=\"#エラトステネスの篩\" data-toc-modified-id=\"エラトステネスの篩-6.4.1\"><span class=\"toc-item-num\">6.4.1&nbsp;&nbsp;</span>エラトステネスの篩</a></span></li><li><span><a href=\"#n^m-mod-p-とnCk\" data-toc-modified-id=\"n^m-mod-p-とnCk-6.4.2\"><span class=\"toc-item-num\">6.4.2&nbsp;&nbsp;</span>n^m mod p とnCk</a></span></li></ul></li><li><span><a href=\"#ダブリング\" data-toc-modified-id=\"ダブリング-6.5\"><span class=\"toc-item-num\">6.5&nbsp;&nbsp;</span>ダブリング</a></span></li><li><span><a href=\"#確率と期待値\" data-toc-modified-id=\"確率と期待値-6.6\"><span class=\"toc-item-num\">6.6&nbsp;&nbsp;</span>確率と期待値</a></span><ul class=\"toc-item\"><li><span><a href=\"#N!通り確かめる奴\" data-toc-modified-id=\"N!通り確かめる奴-6.6.1\"><span class=\"toc-item-num\">6.6.1&nbsp;&nbsp;</span>N!通り確かめる奴</a></span></li></ul></li><li><span><a href=\"#包除原理\" data-toc-modified-id=\"包除原理-6.7\"><span class=\"toc-item-num\">6.7&nbsp;&nbsp;</span>包除原理</a></span></li><li><span><a href=\"#行列の掃き出し法\" data-toc-modified-id=\"行列の掃き出し法-6.8\"><span class=\"toc-item-num\">6.8&nbsp;&nbsp;</span>行列の掃き出し法</a></span></li><li><span><a href=\"#離散対数問題\" data-toc-modified-id=\"離散対数問題-6.9\"><span class=\"toc-item-num\">6.9&nbsp;&nbsp;</span>離散対数問題</a></span></li><li><span><a href=\"#FFT\" data-toc-modified-id=\"FFT-6.10\"><span class=\"toc-item-num\">6.10&nbsp;&nbsp;</span>FFT</a></span></li><li><span><a href=\"#線型計画法\" data-toc-modified-id=\"線型計画法-6.11\"><span class=\"toc-item-num\">6.11&nbsp;&nbsp;</span>線型計画法</a></span></li><li><span><a href=\"#その他\" data-toc-modified-id=\"その他-6.12\"><span class=\"toc-item-num\">6.12&nbsp;&nbsp;</span>その他</a></span></li></ul></li><li><span><a href=\"#ゲーム\" data-toc-modified-id=\"ゲーム-7\"><span class=\"toc-item-num\">7&nbsp;&nbsp;</span>ゲーム</a></span><ul class=\"toc-item\"><li><span><a href=\"#Nim\" data-toc-modified-id=\"Nim-7.1\"><span class=\"toc-item-num\">7.1&nbsp;&nbsp;</span>Nim</a></span></li><li><span><a href=\"#Grundy-数\" data-toc-modified-id=\"Grundy-数-7.2\"><span class=\"toc-item-num\">7.2&nbsp;&nbsp;</span>Grundy 数</a></span></li><li><span><a href=\"#ミニマックス法\" data-toc-modified-id=\"ミニマックス法-7.3\"><span class=\"toc-item-num\">7.3&nbsp;&nbsp;</span>ミニマックス法</a></span></li></ul></li></ul></div>"
   ]
  },
  {
   "cell_type": "markdown",
   "metadata": {},
   "source": [
    "# はじめに"
   ]
  },
  {
   "cell_type": "markdown",
   "metadata": {},
   "source": [
    "# 全検索\n",
    "\n",
    "\n"
   ]
  },
  {
   "cell_type": "markdown",
   "metadata": {},
   "source": [
    "## bit 全検索"
   ]
  },
  {
   "cell_type": "markdown",
   "metadata": {},
   "source": [
    "## 深さ優先検索"
   ]
  },
  {
   "cell_type": "markdown",
   "metadata": {},
   "source": [
    "## 幅優先検索"
   ]
  },
  {
   "cell_type": "markdown",
   "metadata": {},
   "source": [
    "## next permutation"
   ]
  },
  {
   "cell_type": "markdown",
   "metadata": {},
   "source": [
    "# よく出るテクニック"
   ]
  },
  {
   "cell_type": "markdown",
   "metadata": {},
   "source": [
    "## 二分探索"
   ]
  },
  {
   "cell_type": "markdown",
   "metadata": {},
   "source": [
    "## しゃくとり法"
   ]
  },
  {
   "cell_type": "markdown",
   "metadata": {},
   "source": [
    "## 累積和"
   ]
  },
  {
   "cell_type": "markdown",
   "metadata": {},
   "source": [
    "## 半分全列挙"
   ]
  },
  {
   "cell_type": "markdown",
   "metadata": {},
   "source": [
    "## 貪欲法"
   ]
  },
  {
   "cell_type": "markdown",
   "metadata": {},
   "source": [
    "## 座標圧縮"
   ]
  },
  {
   "cell_type": "markdown",
   "metadata": {},
   "source": [
    "## スタックとキュー"
   ]
  },
  {
   "cell_type": "markdown",
   "metadata": {},
   "source": [
    "## 枝刈りと$\\alpha$-$\\beta$探索\n",
    "やりたい"
   ]
  },
  {
   "cell_type": "markdown",
   "metadata": {},
   "source": [
    "## 分割統治法\n",
    "やりたい"
   ]
  },
  {
   "cell_type": "markdown",
   "metadata": {},
   "source": [
    "## その他\n",
    "\n",
    "[指数時間アルゴリズム入門](https://www.slideshare.net/wata_orz/ss-12131479)"
   ]
  },
  {
   "cell_type": "markdown",
   "metadata": {},
   "source": [
    "# 動的計画法"
   ]
  },
  {
   "cell_type": "markdown",
   "metadata": {},
   "source": [
    "## メモ化再帰"
   ]
  },
  {
   "cell_type": "markdown",
   "metadata": {},
   "source": [
    "## ナップザック問題"
   ]
  },
  {
   "cell_type": "markdown",
   "metadata": {},
   "source": [
    "## 最長増加列問題"
   ]
  },
  {
   "cell_type": "markdown",
   "metadata": {},
   "source": [
    "## 文字列DP\n",
    "\n",
    "そのうちこっちに分離させるかも\n",
    "[競技プログラミングにおける文字列アルゴリズム問題まとめ (ローリングハッシュ,Suffix Array,LCP,KMP,Aho-Corasick,Z-algorithm)](https://www.hamayanhamayan.com/entry/2017/03/25/005452)\n"
   ]
  },
  {
   "cell_type": "markdown",
   "metadata": {},
   "source": [
    "## 木DP"
   ]
  },
  {
   "cell_type": "markdown",
   "metadata": {},
   "source": [
    "## 桁DP"
   ]
  },
  {
   "cell_type": "markdown",
   "metadata": {},
   "source": [
    "## ゲームDP"
   ]
  },
  {
   "cell_type": "markdown",
   "metadata": {},
   "source": [
    "## bit DP"
   ]
  },
  {
   "cell_type": "markdown",
   "metadata": {},
   "source": [
    "## 行列累乗"
   ]
  },
  {
   "cell_type": "markdown",
   "metadata": {},
   "source": [
    "## インラインDP\n",
    "\n",
    "セグメントツリーを使って高速化しよう\n",
    "\n",
    "[インラインDP](http://topcoder.g.hatena.ne.jp/skyaozora/20171212/1513084670)"
   ]
  },
  {
   "cell_type": "markdown",
   "metadata": {},
   "source": [
    "## Convex Hull Trick\n",
    "\n",
    "[DP高速化](http://ferin-tech.hatenablog.com/entry/2018/02/23/071343)\n",
    "\n",
    "[Convex-Hull Trick](http://satanic0258.hatenablog.com/entry/2016/08/16/181331)"
   ]
  },
  {
   "cell_type": "markdown",
   "metadata": {},
   "source": [
    "## その他1 setを使ったDP"
   ]
  },
  {
   "cell_type": "markdown",
   "metadata": {},
   "source": [
    "## その他2 辞書を使ったDP\n"
   ]
  },
  {
   "cell_type": "markdown",
   "metadata": {},
   "source": [
    "## その他\n",
    "\n",
    "色々とまだ読んでない記事\n",
    "\n",
    "[はまやん](https://www.hamayanhamayan.com/entry/2017/02/27/021246)\n",
    "\n",
    "[DEGwerさんのPDF](https://drive.google.com/file/d/1WC7Y2Ni-8elttUgorfbix9tO1fvYN3g3/view)\n",
    "\n",
    "[はむこさんの記事DP](http://home.wakatabe.com/ryo/wiki/index.php?アルゴリズム#mb392f04)\n",
    "\n",
    "[戻すDP記事](http://sigma425.hatenablog.com/entry/2015/07/31/121439)\n",
    "\n",
    "\n",
    "\n",
    "[tdpc解説記事](http://garnacha.techblog.jp/archives/42866307.html)\n",
    "(tdpcはpythonだと解くのが非常にきつい)\n",
    "\n",
    "[ DP を DAG 上の最短経路と思う話](http://d.hatena.ne.jp/Tayama/20111210/1323502092)\n",
    "\n"
   ]
  },
  {
   "cell_type": "markdown",
   "metadata": {},
   "source": [
    "# データ構造"
   ]
  },
  {
   "cell_type": "markdown",
   "metadata": {},
   "source": [
    "## Unionfind tree"
   ]
  },
  {
   "cell_type": "markdown",
   "metadata": {},
   "source": [
    "## 重み付きUnionfind tree"
   ]
  },
  {
   "cell_type": "markdown",
   "metadata": {},
   "source": [
    "## Priority queue"
   ]
  },
  {
   "cell_type": "markdown",
   "metadata": {},
   "source": [
    "## 最適二分探索木\n",
    "\n",
    "実装したい"
   ]
  },
  {
   "cell_type": "markdown",
   "metadata": {},
   "source": [
    "## 平行二分木\n",
    "\n",
    "c++におけるstd::setってpythonにないかもしれない"
   ]
  },
  {
   "cell_type": "markdown",
   "metadata": {},
   "source": [
    "## セグメントツリー"
   ]
  },
  {
   "cell_type": "markdown",
   "metadata": {},
   "source": [
    "## Binary Index Tree"
   ]
  },
  {
   "cell_type": "markdown",
   "metadata": {},
   "source": [
    "## 遅延評価つきセグメントツリー\n",
    "\n",
    "作りたい\n",
    "\n",
    "[セグメント木をソラで書きたいあなたに](http://tsutaj.hatenablog.com/entry/2017/03/29/204841)\n",
    "\n",
    "[遅延評価セグメント木をソラで書きたいあなたに](http://tsutaj.hatenablog.com/entry/2017/03/30/224339)\n",
    "\n",
    "[RMQ](https://qiita.com/okateim/items/e2f4a734db4e5f90e410)"
   ]
  },
  {
   "cell_type": "markdown",
   "metadata": {},
   "source": [
    "## Sparse Table \n",
    "作りたい"
   ]
  },
  {
   "cell_type": "markdown",
   "metadata": {},
   "source": [
    "## Starry Sky Tree\n",
    "作りたい"
   ]
  },
  {
   "cell_type": "markdown",
   "metadata": {},
   "source": [
    "## 平方分割"
   ]
  },
  {
   "cell_type": "markdown",
   "metadata": {},
   "source": [
    "## bitset高速化\n",
    "pythonになかったはず"
   ]
  },
  {
   "cell_type": "markdown",
   "metadata": {},
   "source": [
    "## Meldable Heap"
   ]
  },
  {
   "cell_type": "markdown",
   "metadata": {},
   "source": [
    "## その他\n",
    "\n",
    "[データ構造と代数構造](http://koba-e964.hatenablog.com/entry/2016/12/14/214132)\n",
    "\n",
    "[BITのはなし](http://hos.ac/slides/20140319_bit.pdf)\n",
    "\n",
    "[プログラミングコンテストのためのデータ構造](https://www.slideshare.net/iwiwi/ss-3578491)\n"
   ]
  },
  {
   "cell_type": "markdown",
   "metadata": {},
   "source": [
    "# グラフ問題"
   ]
  },
  {
   "cell_type": "markdown",
   "metadata": {},
   "source": [
    "## 最短路問題"
   ]
  },
  {
   "cell_type": "markdown",
   "metadata": {},
   "source": [
    "### ダイクストラ法\n",
    "\n",
    "経路復元できるようになっておくこと"
   ]
  },
  {
   "cell_type": "markdown",
   "metadata": {},
   "source": [
    "### ベルマンフォード法"
   ]
  },
  {
   "cell_type": "markdown",
   "metadata": {},
   "source": [
    "### ワーシャルフロイド法"
   ]
  },
  {
   "cell_type": "markdown",
   "metadata": {},
   "source": [
    "### 0-1 BFS"
   ]
  },
  {
   "cell_type": "markdown",
   "metadata": {},
   "source": [
    "## 最小全域木"
   ]
  },
  {
   "cell_type": "markdown",
   "metadata": {},
   "source": [
    "### プリム法"
   ]
  },
  {
   "cell_type": "markdown",
   "metadata": {},
   "source": [
    "### クラスカル法"
   ]
  },
  {
   "cell_type": "markdown",
   "metadata": {},
   "source": [
    "## 最大流最小カット"
   ]
  },
  {
   "cell_type": "markdown",
   "metadata": {},
   "source": [
    "### フォードファルカーソン法"
   ]
  },
  {
   "cell_type": "markdown",
   "metadata": {},
   "source": [
    "### ディニック法"
   ]
  },
  {
   "cell_type": "markdown",
   "metadata": {},
   "source": [
    "### 燃やす埋める問題\n",
    "\n",
    "yosupoさんの記事を入れる"
   ]
  },
  {
   "cell_type": "markdown",
   "metadata": {},
   "source": [
    "### 最小費用流\n",
    "できるようになること"
   ]
  },
  {
   "cell_type": "markdown",
   "metadata": {},
   "source": [
    "## グラフ用語集&忘れやすい事柄"
   ]
  },
  {
   "cell_type": "markdown",
   "metadata": {},
   "source": [
    "### 二部グラフ"
   ]
  },
  {
   "cell_type": "markdown",
   "metadata": {},
   "source": [
    "### 二部マッチング"
   ]
  },
  {
   "cell_type": "markdown",
   "metadata": {},
   "source": [
    "### 最大独立集合問題\n"
   ]
  },
  {
   "cell_type": "markdown",
   "metadata": {},
   "source": [
    "### クリークと独立集合"
   ]
  },
  {
   "cell_type": "markdown",
   "metadata": {},
   "source": [
    "### 最小点カバーなど"
   ]
  },
  {
   "cell_type": "markdown",
   "metadata": {},
   "source": [
    "## トポロジカルソート"
   ]
  },
  {
   "cell_type": "markdown",
   "metadata": {},
   "source": [
    "### トポロジカルソート"
   ]
  },
  {
   "cell_type": "markdown",
   "metadata": {},
   "source": [
    "### トポロジカルソートの数え上げ"
   ]
  },
  {
   "cell_type": "markdown",
   "metadata": {},
   "source": [
    "## 強連結分解\n",
    "やりたい"
   ]
  },
  {
   "cell_type": "markdown",
   "metadata": {},
   "source": [
    "## 2-SAT"
   ]
  },
  {
   "cell_type": "markdown",
   "metadata": {},
   "source": [
    "## LCA"
   ]
  },
  {
   "cell_type": "markdown",
   "metadata": {},
   "source": [
    "## Euler Tour\n",
    "\n",
    "[競プロにおけるオイラー路とその応用について](http://www.learning-algorithms.com/entry/2017/12/07/193238)"
   ]
  },
  {
   "cell_type": "markdown",
   "metadata": {},
   "source": [
    "## オイラー閉路"
   ]
  },
  {
   "cell_type": "markdown",
   "metadata": {},
   "source": [
    " ##  HL 分解"
   ]
  },
  {
   "cell_type": "markdown",
   "metadata": {},
   "source": [
    "## ツリーの重心分解\n",
    "\n",
    "[Heavy-Light Decomposition](http://beet-aizu.hatenablog.com/entry/2017/12/12/235950)\n",
    "\n",
    "[ツリーの重心分解 (木の重心分解) の図解](https://qiita.com/drken/items/4b4c3f1824339b090202)\n",
    "\n"
   ]
  },
  {
   "cell_type": "markdown",
   "metadata": {},
   "source": [
    "## 二重辺連結成分分解\n",
    "\n",
    "[はまやんさん](https://www.hamayanhamayan.com/entry/2016/10/18/123552)"
   ]
  },
  {
   "cell_type": "markdown",
   "metadata": {},
   "source": [
    "## 最小有向木\n",
    "[最小全域有向木（m log n）](http://joisino.hatenablog.com/entry/2017/01/11/230141)"
   ]
  },
  {
   "cell_type": "markdown",
   "metadata": {},
   "source": [
    "## その他\n",
    "\n",
    "[様々な最小全域木](https://www.slideshare.net/tmaehara/ss-17402143)\n",
    "\n",
    "[最小カットについて](http://yosupo.hatenablog.com/entry/2015/03/31/134336)\n",
    "\n",
    "[完全制覇・ツリー上でのクエリ処理技法](https://topcoder.g.hatena.ne.jp/iwiwi/20111205/1323099376)\n",
    "\n",
    "[\"データ構造をマージする一般的なテク\" とは？](https://topcoder.g.hatena.ne.jp/iwiwi/20131226/1388062106)\n",
    "\n",
    "[マトロイド](http://drken1215.hatenablog.com/entry/20121212/1355280288)"
   ]
  },
  {
   "cell_type": "markdown",
   "metadata": {},
   "source": [
    "# 数学"
   ]
  },
  {
   "cell_type": "markdown",
   "metadata": {},
   "source": [
    "## ユークリッドの互除法"
   ]
  },
  {
   "cell_type": "markdown",
   "metadata": {},
   "source": [
    "## 中国人剰余定理"
   ]
  },
  {
   "cell_type": "markdown",
   "metadata": {},
   "source": [
    "## 約数"
   ]
  },
  {
   "cell_type": "markdown",
   "metadata": {},
   "source": [
    "### 素因数分解"
   ]
  },
  {
   "cell_type": "markdown",
   "metadata": {},
   "source": [
    "### オイラー関数"
   ]
  },
  {
   "cell_type": "markdown",
   "metadata": {},
   "source": [
    "## 素数"
   ]
  },
  {
   "cell_type": "markdown",
   "metadata": {},
   "source": [
    "### エラトステネスの篩"
   ]
  },
  {
   "cell_type": "markdown",
   "metadata": {},
   "source": [
    "### n^m mod p とnCk"
   ]
  },
  {
   "cell_type": "markdown",
   "metadata": {},
   "source": [
    "## ダブリング"
   ]
  },
  {
   "cell_type": "markdown",
   "metadata": {},
   "source": [
    "## 確率と期待値"
   ]
  },
  {
   "cell_type": "markdown",
   "metadata": {},
   "source": [
    "### N!通り確かめる奴"
   ]
  },
  {
   "cell_type": "markdown",
   "metadata": {},
   "source": [
    "## 包除原理"
   ]
  },
  {
   "cell_type": "markdown",
   "metadata": {},
   "source": [
    "## 行列の掃き出し法"
   ]
  },
  {
   "cell_type": "markdown",
   "metadata": {},
   "source": [
    "## 離散対数問題"
   ]
  },
  {
   "cell_type": "markdown",
   "metadata": {},
   "source": [
    "## FFT"
   ]
  },
  {
   "cell_type": "markdown",
   "metadata": {},
   "source": [
    "## 線型計画法\n",
    "やりたい\n",
    "\n",
    "[LPとグラフと定式化](http://tokoharu.github.io/tokoharupage/docs/formularization.pdf)"
   ]
  },
  {
   "cell_type": "markdown",
   "metadata": {},
   "source": [
    "## その他\n",
    "\n",
    "[整数論テクニック集](https://github.com/kirika-comp/articles/blob/pre-releases/pre-seisuuron.pdf)\n",
    "\n",
    "\n",
    "[包除原理 - 解ける数え上げの範囲を広げよう -](http://compro.tsutajiro.com/archive/181015_incexc.pdf)"
   ]
  },
  {
   "cell_type": "markdown",
   "metadata": {},
   "source": [
    "# ゲーム"
   ]
  },
  {
   "cell_type": "markdown",
   "metadata": {},
   "source": [
    "## Nim"
   ]
  },
  {
   "cell_type": "markdown",
   "metadata": {},
   "source": [
    "## Grundy 数"
   ]
  },
  {
   "cell_type": "markdown",
   "metadata": {},
   "source": [
    "## ミニマックス法"
   ]
  }
 ],
 "metadata": {
  "kernelspec": {
   "display_name": "python 3.6.3",
   "language": "python",
   "name": "python3.6"
  },
  "language_info": {
   "codemirror_mode": {
    "name": "ipython",
    "version": 3
   },
   "file_extension": ".py",
   "mimetype": "text/x-python",
   "name": "python",
   "nbconvert_exporter": "python",
   "pygments_lexer": "ipython3",
   "version": "3.6.3"
  },
  "toc": {
   "base_numbering": "0",
   "nav_menu": {},
   "number_sections": true,
   "sideBar": true,
   "skip_h1_title": false,
   "title_cell": "Table of Contents",
   "title_sidebar": "Contents",
   "toc_cell": true,
   "toc_position": {
    "height": "calc(100% - 180px)",
    "left": "10px",
    "top": "150px",
    "width": "183px"
   },
   "toc_section_display": true,
   "toc_window_display": true
  }
 },
 "nbformat": 4,
 "nbformat_minor": 2
}
