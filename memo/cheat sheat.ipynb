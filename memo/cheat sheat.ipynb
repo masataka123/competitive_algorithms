{
 "cells": [
  {
   "cell_type": "markdown",
   "metadata": {},
   "source": [
    "入力一覧"
   ]
  },
  {
   "cell_type": "code",
   "execution_count": null,
   "metadata": {},
   "outputs": [],
   "source": [
    "import sys\n",
    "input = sys.stdin.readline\n",
    "#もしかすると早くなるかもしれん"
   ]
  },
  {
   "cell_type": "code",
   "execution_count": null,
   "metadata": {},
   "outputs": [],
   "source": [
    "N = int(input())\n",
    "a = [int(input()) for i in range(N)] #縦にNこ"
   ]
  },
  {
   "cell_type": "code",
   "execution_count": null,
   "metadata": {},
   "outputs": [],
   "source": [
    "N = int(input())\n",
    "a = [int(i) for i in input().split()] #横にNこ"
   ]
  },
  {
   "cell_type": "code",
   "execution_count": null,
   "metadata": {},
   "outputs": [],
   "source": [
    "N, A, B = map(int, input().split())#横に入力"
   ]
  },
  {
   "cell_type": "code",
   "execution_count": null,
   "metadata": {},
   "outputs": [],
   "source": [
    "N = int(input()) #行列の時\n",
    "S = [list(input()) for i in range(N)] 　\n"
   ]
  },
  {
   "cell_type": "code",
   "execution_count": null,
   "metadata": {},
   "outputs": [],
   "source": [
    "N, M = map(int, input().split()) #行列の時　#横にN縦にM\n",
    "S = [list(input()) for i in range(M)] 　\n",
    "#list(input())は遅い可能性あり、input()にした時がいい場合も・・・"
   ]
  },
  {
   "cell_type": "code",
   "execution_count": null,
   "metadata": {},
   "outputs": [],
   "source": [
    "N = int(input())\n",
    "S = [[int(i) for i in input().split()] for i in range(N)] #空白がある時\n",
    "(空白がない時はこいつはたてがNで横が１の行列になってしまう)"
   ]
  },
  {
   "cell_type": "code",
   "execution_count": null,
   "metadata": {},
   "outputs": [],
   "source": [
    "N, M = map(int, input().split()) #横にN縦にM\n",
    "S = [[int(i) for i in input().split()] for i in range(M)]\n",
    "(空白がない時はこいつはたてがNで横が１の行列になってしまう)\n"
   ]
  },
  {
   "cell_type": "code",
   "execution_count": null,
   "metadata": {},
   "outputs": [],
   "source": [
    "H, W = map(int, input().split()) #Hが縦\n",
    "for j in range(H):\n",
    "    C[j] = input()\n",
    "    for i in range(W):   #中に入れながら定義もしちゃう\n",
    "        if(C[j][i] == 's'):\n",
    "            start_x = i\n",
    "            start_y = j\n"
   ]
  },
  {
   "cell_type": "code",
   "execution_count": null,
   "metadata": {},
   "outputs": [],
   "source": [
    "H,W=map(int,input().split()) #インプットしながらゴールも見る時のやつ\n",
    "c=[]\n",
    "for i in range(H):\n",
    "    #s=str(input())\n",
    "    s = list(input())#こっちの方がリストだから使いやすい\n",
    "    if \"s\" in s: \n",
    "        #st=[i,s.index(\"s\")]\n",
    "        sx = s.index(\"s\")\n",
    "        sy =i\n",
    "    if \"g\" in s: \n",
    "        #go=[i,s.index(\"g\")]\n",
    "        gx = s.index(\"g\")\n",
    "        gy =i\n",
    "    c.append(s)"
   ]
  },
  {
   "cell_type": "code",
   "execution_count": null,
   "metadata": {},
   "outputs": [],
   "source": [
    "for i in range(m):\n",
    "    u, v = [int(x) for x in input().split()]\n",
    "    edges[u-1].append(v-1)  #中に入れながら操作をする\n",
    "    edges[v-1].append(u-1)"
   ]
  },
  {
   "cell_type": "code",
   "execution_count": null,
   "metadata": {},
   "outputs": [],
   "source": [
    "s = [0 if c == \"o\" else 1 for c in input()]\n",
    "#ooxoox ->[0,0,1,0,0,1]"
   ]
  },
  {
   "cell_type": "markdown",
   "metadata": {},
   "source": [
    "アルファベット"
   ]
  },
  {
   "cell_type": "code",
   "execution_count": null,
   "metadata": {},
   "outputs": [],
   "source": [
    "alpha=['a','b','c','d','e','f','g','h','i','j','k','l','m','n','o','p','q','r','s','t','u','v','w','x','y','z']\n",
    "\n"
   ]
  },
  {
   "cell_type": "markdown",
   "metadata": {},
   "source": [
    "出力一覧"
   ]
  },
  {
   "cell_type": "code",
   "execution_count": null,
   "metadata": {},
   "outputs": [],
   "source": [
    "print(' '.join(map(str, A)))\n",
    "#リストを空白区切りで出力3 5 7 11 31とか"
   ]
  },
  {
   "cell_type": "code",
   "execution_count": null,
   "metadata": {},
   "outputs": [],
   "source": [
    "test=['y','n','n']\n",
    "print('\\n'.join(test))\n",
    "#y\n",
    "#n\n",
    "#n"
   ]
  },
  {
   "cell_type": "code",
   "execution_count": null,
   "metadata": {},
   "outputs": [],
   "source": [
    "B=[0, 1, 0, 1, 0]\n",
    "print(''.join(map(str, B)))\n",
    "#01010"
   ]
  },
  {
   "cell_type": "code",
   "execution_count": null,
   "metadata": {},
   "outputs": [],
   "source": [
    "names = ['Alice', 'Bob', 'Charlie'] #breakで抜ける時この方が楽\n",
    "ages = [24, 50, 18]\n",
    "\n",
    "for name, age in zip(names, ages):#in の中身がzipでまとまる、ただし二つの集合が同じ時のみ\n",
    "    print(name, age)\n",
    "# Alice 24\n",
    "# Bob 50\n",
    "# Charlie 18"
   ]
  },
  {
   "cell_type": "code",
   "execution_count": null,
   "metadata": {},
   "outputs": [],
   "source": [
    "min #文字列だと文字列順にソートしてくれる\n",
    "max"
   ]
  },
  {
   "cell_type": "code",
   "execution_count": null,
   "metadata": {},
   "outputs": [],
   "source": [
    "# [L][D][2]\n",
    "dp = [[[0]*2 for j in range(D)] for i in range(L+1)]"
   ]
  },
  {
   "cell_type": "markdown",
   "metadata": {},
   "source": [
    "アルファベット"
   ]
  },
  {
   "cell_type": "code",
   "execution_count": null,
   "metadata": {},
   "outputs": [],
   "source": [
    "a=ord('a')\n",
    "alpha=['a','b','c','d','e','f','g','h','i','j','k','l','m','n','o','p','q','r','s','t','u','v','w','x','y','z']"
   ]
  },
  {
   "cell_type": "markdown",
   "metadata": {},
   "source": [
    "ABC 045 C たくさんの数式　"
   ]
  },
  {
   "cell_type": "markdown",
   "metadata": {},
   "source": [
    "2**n 全部を調べる奴（mこ調べる奴も調べること）"
   ]
  },
  {
   "cell_type": "code",
   "execution_count": null,
   "metadata": {},
   "outputs": [],
   "source": [
    "s = input()　#2bit全検索\n",
    "ans = 0\n",
    "for i in range(1<<(len(s)-1)):#0-2**(len(s)-1)まで\n",
    "    tmp = s[0]\n",
    "    for j in range(len(s)-1):\n",
    "        if i & (1<<j): #iの2進数展開のj+1桁目が０でない\n",
    "            tmp += '+'\n",
    "        tmp += s[j+1]\n",
    "    ans += eval(tmp)　#>>> eval('1 + 2')=3みたいな感じ\n",
    "print(ans)"
   ]
  },
  {
   "cell_type": "code",
   "execution_count": null,
   "metadata": {},
   "outputs": [],
   "source": [
    "s = str(input())  #\n",
    "n = len(s) -1 # \n",
    "for i in range(1<<n):#0-2**nまで\n",
    "    for j in range(n):\n",
    "        if i & (1<<j):#iの2進数展開のj+1桁目が０でない"
   ]
  },
  {
   "cell_type": "markdown",
   "metadata": {},
   "source": [
    "再起に関して\n",
    "再帰呼び出しとは、関数内でその関数自身を実行することを言う。Python で階乗の計算を行う場合、以下のように記述する。\n",
    "このとき、プログラムは自分の復帰場所や復帰時の値を覚えておくために、スタック領域にそれらを記憶するわけであるが、あまりにも深くまで呼び出しを行うとスタックオーバーフローを発生する。\n",
    "\n",
    "あまりにも深い再帰呼び出しによるオーバーフローを防ぐため、Python では、再帰呼び出しの上限を設定している。（デフォルトは 1000 回）\n",
    "上限値は sys.getrecursionlimit() 関数で取得することができsys.setrecursionlimit() 関数で設定することができる。\n",
    "REの時はここの10**6を変えてみる"
   ]
  },
  {
   "cell_type": "code",
   "execution_count": null,
   "metadata": {},
   "outputs": [],
   "source": [
    "import sys\n",
    "sys.setrecursionlimit(10**7) #なんかまあ再起のリミットをつけておく\n"
   ]
  },
  {
   "cell_type": "markdown",
   "metadata": {},
   "source": [
    "Pythonでは，listオブジェクトがスタック，キューの役目を果たしている．\n",
    "\n",
    "append()やpop()はO(1)\n",
    "だが，pop(0)はO(n)\n",
    "の操作であるため，リストの要素数が多くなるとdequeに時間がかかるようになってしまう．\n",
    "(スタック，)キューを使う場合は，collections.dequeを使うのが安全．"
   ]
  },
  {
   "cell_type": "code",
   "execution_count": null,
   "metadata": {},
   "outputs": [],
   "source": [
    "from collections import deque\n",
    "\n",
    "l = [0, 1, 2, 3]\n",
    "q = deque(l)\n",
    "\n",
    "# push/enque\n",
    "q.append(4)\n",
    "print q # deque([0, 1, 2, 3, 4])\n",
    "\n",
    "# pop\n",
    "x = q.pop() # 4\n",
    "print q # deque([0, 1, 2, 3])\n",
    "\n",
    "# deque\n",
    "y = q.popleft() # 0\n",
    "print q # deque([1, 2, 3])\n",
    "\n",
    "q = deque()\n",
    "q.append((3,4)) # deque([(3, 4)]) こっちが正解\n",
    "\n",
    "q = deque((3,4)) #deque([3, 4])　こっちは間違い\n",
    "\n",
    "x, y = q.popleft() #x=3 y=4が代入される、かっこはいらない\n"
   ]
  },
  {
   "cell_type": "markdown",
   "metadata": {},
   "source": [
    "順列，組合せを生成\n",
    "(for 使うより早い)\n",
    "n!検索に有用"
   ]
  },
  {
   "cell_type": "code",
   "execution_count": null,
   "metadata": {},
   "outputs": [],
   "source": [
    "import itertools\n",
    "#組み合わせ\n",
    "for elem in itertools.permutations(l, 2):\n",
    "    print elem # elemには並べた要素のタプルが代入される\n",
    "\n",
    "#カルテシアン積、座標    \n",
    "for elem in itertools.product(l, repeat=2):\n",
    "    print elem\n",
    "\n",
    "from itertools import permutations\n",
    "#組み合わせ\n",
    "l=[1,2,3]\n",
    "for elem in permutations(l, 3):\n",
    "    print(elem)"
   ]
  },
  {
   "cell_type": "markdown",
   "metadata": {},
   "source": [
    "defaultdict\n",
    "\n",
    "collections.defaultdictは，その名の通り，デフォルト値を持つdict．\n",
    "競技プログラミングでは，カウンタを作成する機会が多い(特に実装ゲー問題に多い)．\n",
    "defaultdictを使うことで，初期化を減らし，コードを見やすくすることができる．\n",
    "\n",
    "https://www.pythonweb.jp/tutorial/dictionary/index8.html\n",
    "\n",
    "辞書をソートしたい時のメソッド\n",
    "https://www.lifewithpython.com/2013/01/python-sort-dicts.html"
   ]
  },
  {
   "cell_type": "code",
   "execution_count": null,
   "metadata": {},
   "outputs": [],
   "source": [
    "from collections import defaultdict\n",
    "dd = defaultdict(int) # すべてのキーが0で初期化される\n",
    "for e in l:\n",
    "    dd[e] += 1 # 初期化の必要がない\n",
    "    #ddは辞書\n",
    "    \n",
    "dd.values() #要素の個数の集合\n",
    "dd.key()#キーの取得\n",
    "dd.items()#キーと個数の取得\n",
    "\n",
    "sorted(dd.items(), key=lambda x: x[0])#キーに関しての辞書順\n",
    "sorted(d.items(), key=lambda x: x[1])#要素（バリュー）に関しての辞書順\n",
    "#itemgetterを使う時のやつ\n",
    "from operator import itemgetter\n",
    "sorted(d.items(), key=itemgetter(0))"
   ]
  },
  {
   "cell_type": "markdown",
   "metadata": {},
   "source": [
    "\n",
    "カウンタ作成に重宝するCounter\n",
    "\n",
    "collections.Counterは，カウンタ作成に特化したオブジェクトで，自動的に0が初期値とされる．\n",
    "これだけだとdefautdict(int)と等価だが，最大値をすぐに求められるなど，他にもいくつか便利機能がある．"
   ]
  },
  {
   "cell_type": "code",
   "execution_count": null,
   "metadata": {},
   "outputs": [],
   "source": [
    "from collections import Counter\n",
    "\n",
    "l = ['to', 'be', 'or', 'not', 'to', 'be', 'that', 'is', 'the', 'question']\n",
    "\n",
    "c = Counter()\n",
    "for e in l:\n",
    "    c[e] += 1\n",
    "print c # Counter({'be': 2, 'is': 1, 'not': 1, 'or': 1, 'question': 1, 'that': 1, 'the': 1, 'to': 2})\n",
    "print c['be'] # 2\n",
    "\n",
    "# リストなどを引数に渡すと，自動的にカウントされる\n",
    "c2 = Counter(l) \n",
    "print c2 # Counter({'be': 2, 'is': 1, 'not': 1, 'or': 1, 'question': 1, 'that': 1, 'the': 1, 'to': 2})\n",
    "\n",
    "# カウンタの値の降順にソート\n",
    "print c.most_common() # [('be', 2), ('to', 2), ('that', 1), ('is', 1), ('question', 1), ('not', 1), ('the', 1), ('or', 1)]\n",
    "# カウンタの値が最大のものから順に3つを出力\n",
    "print c.most_common(3) # [('be', 2), ('to', 2), ('that', 1)]"
   ]
  },
  {
   "cell_type": "markdown",
   "metadata": {},
   "source": [
    "深さ優先検索の塗りつぶしの例\n",
    "\n",
    "気をつけるのは変数の順番（x,yの順番はちょっとやめておいた方がいい）"
   ]
  },
  {
   "cell_type": "code",
   "execution_count": null,
   "metadata": {},
   "outputs": [],
   "source": [
    "def dfs(y, x):#通るところを＃で塗りつぶしていって、gが#で塗りつぶせたらおk\n",
    "    C[y][x] = '#' #塗る\n",
    "    for i in range (4): #次に移動する\n",
    "        nx = x+X[i]\n",
    "        ny = y+Y[i]\n",
    "        if (0<=nx< W) and (0<=ny< H) and (C[ny][nx] == '.' or C[ny][nx] == 'g' ):\n",
    "            dfs(ny, nx)\n",
    "    return"
   ]
  },
  {
   "cell_type": "markdown",
   "metadata": {},
   "source": [
    "copyについて\n",
    "リストをコピーして使う時はdeepcopyを扱うべき\n",
    "（A = B でAを変更するとBも変更がなされる）\n",
    "\n",
    "リストはmutable, タプルはimmutable\n",
    "どうもリストは=でやるとIDが同じとなるらしい"
   ]
  },
  {
   "cell_type": "code",
   "execution_count": null,
   "metadata": {},
   "outputs": [],
   "source": [
    "import copy\n",
    "copy.deepcopy()"
   ]
  },
  {
   "cell_type": "markdown",
   "metadata": {},
   "source": [
    "座標のソートに便利なitemgetter\n",
    "B.sort()するとBは変わるが（破壊的）、sorted()では不変（非破壊的）"
   ]
  },
  {
   "cell_type": "code",
   "execution_count": null,
   "metadata": {},
   "outputs": [],
   "source": [
    "from operator import itemgetter\n",
    "B =[(5,7), (6,6), (7,5),(4,4), (3,5)]\n",
    "B.sort() #[(3, 5), (4, 4), (5, 7), (6, 6), (7, 5)]\n",
    "sorted(B,reverse=True) #[(7, 5), (6, 6), (5, 7), (4, 4), (3, 5)]\n",
    "sorted(B, key = itemgetter(0)) #[(3, 5), (4, 4), (5, 7), (6, 6), (7, 5)]\n",
    "sorted(B, key = itemgetter(1)) #[(4, 4), (3, 5), (7, 5), (6, 6), (5, 7)]\n",
    "sorted(B, key=lambda x:x[1]) #[(4, 4), (3, 5), (7, 5), (6, 6), (5, 7)]"
   ]
  },
  {
   "cell_type": "markdown",
   "metadata": {},
   "source": [
    "1つ目の項で昇順、2つ目の項で降順する"
   ]
  },
  {
   "cell_type": "code",
   "execution_count": null,
   "metadata": {},
   "outputs": [],
   "source": [
    "from operator import itemgetter\n",
    "#A=[[2, 5], [3, 3], [4, 2], [4, 5]]\n",
    "b =sorted(A,key=itemgetter(1),reverse=True)\n",
    "sorted(b,key=itemgetter(0))"
   ]
  },
  {
   "cell_type": "markdown",
   "metadata": {},
   "source": [
    "jupyter notebookだとなんかexit()が使えない\n",
    "\n",
    "そのためsys.exit()の方で代用する（notebook形式で競プロやるのもどうかと思うけど）"
   ]
  },
  {
   "cell_type": "code",
   "execution_count": null,
   "metadata": {},
   "outputs": [],
   "source": [
    "import sys\n",
    "sys.exit()"
   ]
  },
  {
   "cell_type": "markdown",
   "metadata": {},
   "source": [
    "union find tree　ARC 097 D\n",
    "\n",
    "\n",
    "python3でなぜかないデータ構造\n",
    "だから作らないといけない\n"
   ]
  },
  {
   "cell_type": "markdown",
   "metadata": {},
   "source": [
    "自分で実装したやつ"
   ]
  },
  {
   "cell_type": "code",
   "execution_count": null,
   "metadata": {},
   "outputs": [],
   "source": [
    "class Unionfindtree:\n",
    "    def __init__(self,number):\n",
    "        self.par = [i for i in range(number)]\n",
    "        self.rank = [0]*(number)\n",
    "\n",
    "    def find(self,x):#親を探す xの親を示す\n",
    "        if self.par[x] ==x:\n",
    "            return x\n",
    "        else:\n",
    "            self.par[x] = self.find(self.par[x])\n",
    "            return self.par[x]\n",
    "\n",
    "    def union(self,x,y):#x,yを繋げる\n",
    "        px = self.find(x)\n",
    "        py = self.find(y)\n",
    "        if px == py:\n",
    "            return \n",
    "        if self.rank[px]<self.rank[py]:\n",
    "            self.par[px]=py\n",
    "        else:\n",
    "            self.par[py]=px\n",
    "        if self.rank[px]==self.rank[py]:\n",
    "            self.rank[px] +=1\n",
    "    \n",
    "    def connect(self,x,y):#親が同じかみる\n",
    "        return self.find(x)==self.find(y)\n"
   ]
  },
  {
   "cell_type": "markdown",
   "metadata": {},
   "source": [
    "使い方"
   ]
  },
  {
   "cell_type": "code",
   "execution_count": null,
   "metadata": {},
   "outputs": [],
   "source": [
    "class Unionfindtree:\n",
    "    def __init__(self,number):\n",
    "        self.par = [i for i in range(number)]\n",
    "        self.rank = [0]*(number)\n",
    "\n",
    "    def find(self,x):#親を探す\n",
    "        if self.par[x] ==x:\n",
    "            return x\n",
    "        else:\n",
    "            self.par[x] = self.find(self.par[x])\n",
    "            return self.par[x]\n",
    "\n",
    "    def union(self,x,y):#x,yを繋げる\n",
    "        px = self.find(x)\n",
    "        py = self.find(y)\n",
    "        if px == py:\n",
    "            return \n",
    "        if self.rank[px]<self.rank[py]:\n",
    "            self.par[px]=py\n",
    "        else:\n",
    "            self.par[py]=px\n",
    "        if self.rank[px]==self.rank[py]:\n",
    "            self.rank[px] +=1\n",
    "    \n",
    "    def connect(self,x,y):#親が同じかみる\n",
    "        return self.find(x)==self.find(y)\n",
    "    \n",
    "N,M = map(int,input().split())\n",
    "tree = Unionfindtree(N)\n",
    "A = []\n",
    "for i in range(M):\n",
    "    p,x,y = map(int,input().split())\n",
    "    if p==0:\n",
    "        tree.union(x,y)\n",
    "    else:\n",
    "        if tree.connect(x,y):\n",
    "            A.append('Yes')\n",
    "        else:\n",
    "            A.append('No')\n",
    "print('\\n'.join(A))\n"
   ]
  },
  {
   "cell_type": "markdown",
   "metadata": {},
   "source": [
    "重み付きunionfindtreeの実装(https://qiita.com/drken/items/cce6fc5c579051e64fab)\n",
    "\n",
    "使う機会なさそうだけど"
   ]
  },
  {
   "cell_type": "code",
   "execution_count": null,
   "metadata": {},
   "outputs": [],
   "source": [
    "class WeightUnionfindtree:\n",
    "    def __init__(self,number):\n",
    "        self.par = [i for i in range(number)]\n",
    "        self.rank = [0]*(number)\n",
    "        self.weight=[0]*(number)\n",
    "\n",
    "    def find(self,x):#親を探す xの親を示す\n",
    "        if self.par[x] ==x:\n",
    "            return x\n",
    "        else:\n",
    "            r = self.find(self.par[x])\n",
    "            self.weight[x]+=self.weight[self.par[x]]\n",
    "            self.par[x]=r\n",
    "            return self.par[x]\n",
    "        \n",
    "    def weighted(self,x):#重みの更新をして真の重みを出す\n",
    "        self.find(x)\n",
    "        return self.weight[x]\n",
    "    \n",
    "    def union(self,x,y,w):#weight(y) = weight(x) + w となるように x と y をマージする\n",
    "        w += self.weighted(x)\n",
    "        w -= self.weighted(y)\n",
    "        px = self.find(x)\n",
    "        py = self.find(y)\n",
    "        if px == py:\n",
    "            return \n",
    "        if self.rank[px]<self.rank[py]:\n",
    "            self.par[px]=py\n",
    "            self.weight[px]=-w\n",
    "        else:\n",
    "            self.par[py]=px\n",
    "            self.weight[py] = w\n",
    "        if self.rank[px]==self.rank[py]:\n",
    "            self.rank[px] +=1\n",
    "    \n",
    "    def connect(self,x,y):#親が同じかみる\n",
    "        return self.find(x)==self.find(y)\n",
    "    \n",
    "    def diff(self,x,y):#yとxの重みの差を見る、重みの更新も自動でしてくれる\n",
    "        return self.weighted(y)-self.weighted(x)\n"
   ]
  },
  {
   "cell_type": "markdown",
   "metadata": {},
   "source": [
    "heapq プライオリティキュー\n",
    "\n",
    "最小値を取り出すのにO(1),最大値は取り出せない\n",
    "\n",
    "要素を入れるのにO($\\log n$)"
   ]
  },
  {
   "cell_type": "code",
   "execution_count": null,
   "metadata": {},
   "outputs": [],
   "source": [
    "import heapq\n",
    "a = [6, 3, 2, 4, 5]\n",
    "heapq.heapify(a)    # 破壊的 \n",
    "#heappopは最小値を出す\n",
    "print a[0]    # => 2\n",
    "heapq.heappop(a)    # 最小値をヒープから取り出す\n",
    "print a[0]    # => 3\n",
    "heapq.heappush(a, 1)    # ヒープに要素を追加する\n",
    "print a[0]    # => 1\n",
    "\n",
    "#maxをとる時の一例\n",
    "a = [6, 3, 2, 4, 5]\n",
    "a = [(-x, x) for x in a]\n",
    "heapq.heapify(a)    # 破壊的\n",
    "\n",
    "print a[0][1]    # => 6\n",
    "heapq.heappop(a)\n",
    "print a[0][1]    # => 5\n",
    "heapq.heappush(a, (-8, 8))\n",
    "print a[0][1]    # => 8\n",
    "\n",
    "A =[]\n",
    "for i in range(10):\n",
    "    heapq.heappush(A,i*((-1)**i))\n",
    "print(A)\n",
    "#[-9, -7, -3, -1, -5, 2, 6, 0, 8, 4]\n",
    "#一番左が最小値、最大値はどこにあるか分からん\n",
    "#この使い方だとheapifyが不要"
   ]
  },
  {
   "cell_type": "markdown",
   "metadata": {},
   "source": [
    "二分探索\n",
    "$O( \\log n)$で検索してくれる\n",
    "\n",
    "ただしソートされている必要があり"
   ]
  },
  {
   "cell_type": "code",
   "execution_count": null,
   "metadata": {},
   "outputs": [],
   "source": [
    "import bisect\n",
    "\n",
    "li = [1, 9, 15, 32]\n",
    "x = 15\n",
    "print bisect.bisect_left(li, x)\n",
    "# => 2\n",
    "print bisect.bisect_right(li, x)\n",
    "# => 3\n",
    "print bisect.bisect_left(li, 14)\n",
    "# => 2\n",
    "print bisect.bisect_right(li, 14)\n",
    "# => 2\n",
    "bisect.insort_left(li, x)\n",
    "bisect.insort_right(li, x)\n",
    "\n",
    "print li  # => [1, 9, 15, 15, 15, 32]"
   ]
  },
  {
   "cell_type": "markdown",
   "metadata": {},
   "source": [
    "atcoderのpythonのバージョンは 3,4,3\n",
    "バージョン 3.5 で撤廃: 代わりに math.gcd() を使用してください。\n",
    "のため下で書くべき"
   ]
  },
  {
   "cell_type": "code",
   "execution_count": null,
   "metadata": {},
   "outputs": [],
   "source": [
    "from fractions import gcd\n",
    "gcd(12,8) #4"
   ]
  },
  {
   "cell_type": "markdown",
   "metadata": {},
   "source": [
    "素数の集合、素因数分解、素数であるかの判定のクラス"
   ]
  },
  {
   "cell_type": "code",
   "execution_count": null,
   "metadata": {},
   "outputs": [],
   "source": [
    "from collections import defaultdict\n",
    "class Prime:\n",
    "    def __init__(self,number):#N以下の素数\n",
    "        self.jud=[True]*(number+5)\n",
    "        self.pri=[]\n",
    "        self.jud[0]=False\n",
    "        self.jud[1]=False\n",
    "        for i in range(number):\n",
    "            if self.jud[i]:\n",
    "                self.pri.append(i)\n",
    "                for j in range(2,(number)//i+1):\n",
    "                    self.jud[i*j]=False\n",
    "    \n",
    "    def judge(self,x):\n",
    "        return self.jud[x]\n",
    "    \n",
    "    def decom(self,x):\n",
    "        s=x\n",
    "        a =defaultdict(int)\n",
    "        if s==1:\n",
    "            return a\n",
    "        while s>1:\n",
    "            for p in self.pri:\n",
    "                if s%p==0:\n",
    "                    a[p]+=1\n",
    "                    s=s//p\n",
    "                    break\n",
    "        return a\n",
    "            \n",
    "\n",
    "A=Prime(10**3)\n",
    "print(A.judge(67))#True\n",
    "print(A.pri)#素数の集合が出る\n",
    "print(A.decom(100))#defaultdict(<class 'int'>, {2: 2, 5: 2})\n",
    "print(A.decom(28))"
   ]
  },
  {
   "cell_type": "markdown",
   "metadata": {},
   "source": [
    "ダイクストラ D:トレジャーハント\n",
    "\n",
    "ダイクストラの注意点\n",
    "table[a-1].append((b-1,c))のようにタプルで入れる\n",
    "（リストで入れるとかなり遅い、多分型推論の影響）"
   ]
  },
  {
   "cell_type": "markdown",
   "metadata": {},
   "source": [
    "時間に関して、\n",
    "タプル>リスト＞セット、辞書ぐらいの順番\n",
    "変わらないものに関して（グラフの辺のコストとか）はタプルで入れたほうが良い"
   ]
  },
  {
   "cell_type": "code",
   "execution_count": null,
   "metadata": {},
   "outputs": [],
   "source": [
    "from heapq import heappush,heappop\n",
    "N,M,T=map(int,input().split())\n",
    "A=[int(i) for i in input().split()]\n",
    "table=[[]for i in range(N)]#(有向グラフとその時間)\n",
    "rtable=[[]for i in range(N)]\n",
    "for i in range(M):\n",
    "    a,b,c= map(int,input().split())\n",
    "    table[a-1].append((b-1,c))\n",
    "    rtable[b-1].append((a-1,c))\n",
    "val=[(10**9)+7]*N\n",
    "dij=[]\n",
    "val[0]=0\n",
    "heappush(dij,(0,0))\n",
    "while dij:\n",
    "    q,i=heappop(dij)\n",
    "    if val[i]<q:\n",
    "        continue\n",
    "    for x,c in table[i]:\n",
    "        if val[x]>val[i]+c:\n",
    "            val[x]=val[i]+c\n",
    "            heappush(dij,(val[x],x))\n",
    "rval=[(10**9)+7]*N\n",
    "rdij=[]\n",
    "rval[0]=0\n",
    "heappush(rdij,(0,0))\n",
    "while rdij:\n",
    "    q,i=heappop(rdij)\n",
    "    if rval[i]<q:\n",
    "        continue\n",
    "    for x,c in rtable[i]:\n",
    "        if rval[x]>rval[i]+c:\n",
    "            rval[x]=rval[i]+c\n",
    "            heappush(rdij,(rval[x],x))\n",
    "\n",
    "kotae=0\n",
    "for i in range(N):\n",
    "    t = max(0,T-val[i]-rval[i])\n",
    "    kotae = max(kotae,A[i]*t)\n",
    "print(kotae)\n"
   ]
  },
  {
   "cell_type": "markdown",
   "metadata": {},
   "source": [
    "saving snuck ダイクストラのクラス"
   ]
  },
  {
   "cell_type": "code",
   "execution_count": null,
   "metadata": {},
   "outputs": [],
   "source": [
    "from heapq import heappush,heappop\n",
    "class Dijk:\n",
    "    def __init__(self,n):\n",
    "        self.table=[[] for i in range(n)]\n",
    "        self.n=n\n",
    "    \n",
    "    def add(self,x,y,f):\n",
    "        self.table[x].append((y,f))\n",
    "        \n",
    "    def di(self,s):\n",
    "        inf=10**20\n",
    "        self.val=[inf]*self.n\n",
    "        self.val[s]=0\n",
    "        h=[]\n",
    "        heappush(h,(0,s))\n",
    "        while h:\n",
    "            q,i=heappop(h)\n",
    "            if self.val[i]<q:\n",
    "                continue\n",
    "            for x,c in self.table[i]:\n",
    "                if self.val[x]>self.val[i]+c:\n",
    "                    self.val[x]=self.val[i]+c\n",
    "                    heappush(h,(self.val[x],x))\n",
    "                    \n",
    "    def dist(self,s,t):\n",
    "        return self.val[t]\n",
    "\n",
    "N,M,s,t=map(int,input().split())\n",
    "stra=Dijk(N)\n",
    "rstra=Dijk(N)\n",
    "for i in range(M):\n",
    "    u,v,a,b=map(int,input().split())\n",
    "    stra.add(u-1,v-1,a)\n",
    "    stra.add(v-1,u-1,a)\n",
    "    rstra.add(u-1,v-1,b)\n",
    "    rstra.add(v-1,u-1,b)\n",
    "stra.di(s-1)\n",
    "rstra.di(t-1)\n",
    "ans=[]\n",
    "T=10**15\n",
    "mod=10**15\n",
    "for i in range(N-1,-1,-1):\n",
    "    T=min(stra.dist(s-1,i)+rstra.dist(t-1,i),T)\n",
    "    ans.append(mod-T)\n",
    "print('\\n'.join(map(str,ans[::-1])))"
   ]
  },
  {
   "cell_type": "markdown",
   "metadata": {},
   "source": [
    "ABC10 浮気予防　二部マッチングの実装例\n"
   ]
  },
  {
   "cell_type": "code",
   "execution_count": null,
   "metadata": {},
   "outputs": [],
   "source": [
    "\n",
    "N,G,E=map(int,input().split())\n",
    "P=[int(i) for i in input().split()]\n",
    "table=[[0]*(N+1) for i in range(N+1)]\n",
    "for p in P:\n",
    "    table[p][N]=1\n",
    "for i in range(E):\n",
    "    a,b=map(int,input().split())\n",
    "    table[b][a]=1\n",
    "    table[a][b]=1\n",
    "#print(table)\n",
    "def fk(x):\n",
    "    visit[x]=True\n",
    "    if x==N:\n",
    "        return True\n",
    "    for i in range(N+1):\n",
    "        if (not visit[i]) and table[x][i]>0:\n",
    "            if fk(i):\n",
    "                table[x][i]-=1\n",
    "                table[i][x]+=1\n",
    "                return True\n",
    "    return False\n",
    "\n",
    "ans=0\n",
    "while True:\n",
    "    visit=[False]*(N+1)\n",
    "    if fk(0):\n",
    "        ans+=1\n",
    "    else:\n",
    "        break\n",
    "\n",
    "print(ans)"
   ]
  },
  {
   "cell_type": "code",
   "execution_count": null,
   "metadata": {},
   "outputs": [],
   "source": [
    "from collections import deque\n",
    "N,G,E=map(int,input().split())\n",
    "P=[int(i) for i in input().split()]\n",
    "table=[[0]*(N+1) for i in range(N+1)]\n",
    "for p in P:\n",
    "    table[p][N]=1\n",
    "for i in range(E):\n",
    "    a,b=map(int,input().split())\n",
    "    table[b][a]=1\n",
    "    table[a][b]=1\n",
    "\n",
    "def fk():\n",
    "    flag=False\n",
    "    h=deque()\n",
    "    h.append(0)\n",
    "    L=[-1]*(N+1)\n",
    "    L[0]=0\n",
    "    visit[0]=True\n",
    "    while h:\n",
    "        x=h.pop()\n",
    "        for i in range(N+1):\n",
    "            if table[x][i]>0 and (not visit[i]) and i==N:\n",
    "                L[i]=x\n",
    "                flag =True\n",
    "                break\n",
    "            elif table[x][i]>0 and (not visit[i]):\n",
    "                visit[i]=True\n",
    "                L[i]=x\n",
    "                h.append(i)\n",
    "        if flag:\n",
    "            break\n",
    "    #print(table,L)\n",
    "    if flag:\n",
    "        s=N\n",
    "        t=L[s]\n",
    "        while t>0:\n",
    "            t=L[s]\n",
    "            table[t][s]-=1\n",
    "            table[s][t]+=1\n",
    "            s=t\n",
    "        return flag\n",
    "    else:\n",
    "        return flag\n",
    "        \n",
    "ans=0               \n",
    "while True:\n",
    "    visit=[False]*(N+1)\n",
    "    if fk():\n",
    "        ans+=1\n",
    "    else:\n",
    "        break  \n",
    "print(ans)"
   ]
  },
  {
   "cell_type": "markdown",
   "metadata": {},
   "source": [
    "ARC 085 E MUL フロー（フォードファルカーソン法）"
   ]
  },
  {
   "cell_type": "code",
   "execution_count": null,
   "metadata": {},
   "outputs": [],
   "source": [
    "N=int(input())\n",
    "P=[int(i) for i in input().split()]\n",
    "inf = 10**20\n",
    "table=[[0]*(N+2) for i in range(N+2)]\n",
    "for i in range(1,N+1):\n",
    "    if P[i-1]>0:\n",
    "        table[i][N+1]=P[i-1]\n",
    "    else:\n",
    "        table[0][i]=-P[i-1]\n",
    "    for j in range(2*i,N+1,i):\n",
    "        table[i][j]=inf\n",
    "#print(table)\n",
    "def fk(x,t,f):\n",
    "    #print(x)\n",
    "    visit[x]=True\n",
    "    if x==t:\n",
    "        return f\n",
    "    for i in range(N+2):\n",
    "        if (not visit[i]) and table[x][i]>0:\n",
    "            df=fk(i,t,min(f,table[x][i]))\n",
    "            if df>0:\n",
    "                table[x][i]-=df\n",
    "                table[i][x]+=df\n",
    "                return df\n",
    "    return 0\n",
    "\n",
    "ans=0\n",
    "while True:\n",
    "    visit=[False]*(N+2)\n",
    "    df=fk(0,N+1,inf)\n",
    "    if df>0:\n",
    "        ans+=df\n",
    "    else:\n",
    "        break\n",
    "num=sum([p for p in P if p>0])\n",
    "print(num-ans)"
   ]
  },
  {
   "cell_type": "code",
   "execution_count": null,
   "metadata": {},
   "outputs": [],
   "source": [
    "N=int(input())\n",
    "P=[int(i) for i in input().split()]\n",
    "inf = 10**20\n",
    "table=[[0]*(N+2) for i in range(N+2)]\n",
    "for i in range(1,N+1):\n",
    "    if P[i-1]>0:\n",
    "        table[i][N+1]=P[i-1]\n",
    "    else:\n",
    "        table[0][i]=-P[i-1]\n",
    "    for j in range(2*i,N+1,i):\n",
    "        table[i][j]=inf\n",
    "#print(table)\n",
    "def fk(x,t,f):\n",
    "    #print(x)\n",
    "    visit[x]=True\n",
    "    if x==t:\n",
    "        return f\n",
    "    for i in range(N+2):\n",
    "        if (not visit[i]) and table[x][i]>0:\n",
    "            df=fk(i,t,min(f,table[x][i]))\n",
    "            if df>0:\n",
    "                table[x][i]-=df\n",
    "                table[i][x]+=df\n",
    "                return df\n",
    "    return 0\n",
    "\n",
    "ans=0\n",
    "while True:\n",
    "    visit=[False]*(N+2)\n",
    "    df=fk(0,N+1,inf)\n",
    "    if df>0:\n",
    "        ans+=df\n",
    "    else:\n",
    "        break\n",
    "num=sum([p for p in P if p>0])\n",
    "print(num-ans)"
   ]
  },
  {
   "cell_type": "markdown",
   "metadata": {},
   "source": [
    "フローのクラス 浮気予防"
   ]
  },
  {
   "cell_type": "code",
   "execution_count": null,
   "metadata": {},
   "outputs": [],
   "source": [
    "from collections import deque\n",
    "class Dinic:\n",
    "    def __init__(self,number):\n",
    "        self.table = [[0]*(number) for i in range(number)]\n",
    "        self.n=number\n",
    "    \n",
    "    def add(self,x,y,f):\n",
    "        self.table[x][y]=f\n",
    "    \n",
    "    def bfs(self,x):\n",
    "        self.visit[x]=0\n",
    "        h=deque()\n",
    "        h.append(x)\n",
    "        while h:\n",
    "            y=h.popleft()\n",
    "            for i in range(self.n):\n",
    "                if self.visit[i]==-1 and self.table[y][i]>0:\n",
    "                    self.visit[i]=self.visit[y]+1\n",
    "                    h.append(i)\n",
    "        return 0\n",
    "    \n",
    "    def dinic(self,s,t,f):\n",
    "        if s==t:\n",
    "            return f\n",
    "        for i in range(self.n):\n",
    "            if self.visit[i]>self.visit[s] and self.table[s][i]>0:\n",
    "                df = self.dinic(i,t,min(f,self.table[s][i]))\n",
    "                if df>0:\n",
    "                    self.table[s][i]-=df\n",
    "                    self.table[i][s]+=df\n",
    "                    return df\n",
    "        return 0\n",
    "    \n",
    "    def flow(self,s,t):\n",
    "        ans=0\n",
    "        inf=10**20\n",
    "        while True:\n",
    "            self.visit=[-1]*(self.n)\n",
    "            self.bfs(s)\n",
    "            if self.visit[t]==-1:\n",
    "                break\n",
    "            while True:\n",
    "                df=self.dinic(s,t,inf)\n",
    "                if df==0:\n",
    "                    break\n",
    "                ans+=df\n",
    "        return ans\n",
    "N,G,E=map(int,input().split())\n",
    "P=[int(i) for i in input().split()]\n",
    "maxflow=Dinic(N+1)\n",
    "for p in P:\n",
    "    maxflow.add(p,N,1)\n",
    "for i in range(E):\n",
    "    a,b=map(int,input().split())\n",
    "    maxflow.add(a,b,1)\n",
    "    maxflow.add(b,a,1)\n",
    "ans=maxflow.flow(0,N)\n",
    "print(ans)"
   ]
  },
  {
   "cell_type": "code",
   "execution_count": null,
   "metadata": {},
   "outputs": [],
   "source": [
    "class FK:\n",
    "    def __init__(self,n):\n",
    "        self.table=[[0]*n for i in range(n)]\n",
    "        self.n=n\n",
    "    \n",
    "    def add(self,x,y,f):\n",
    "        self.table[x][y]=f\n",
    "        \n",
    "    def ford(self,s,t,f):\n",
    "        self.visit[s]=True\n",
    "        if s==t:\n",
    "            return f\n",
    "        for i in range(self.n):\n",
    "            if (not self.visit[i]) and self.table[s][i]>0:\n",
    "                df=self.ford(i,t,min(f,self.table[s][i]))\n",
    "                if df>0:\n",
    "                    self.table[s][i]-=df\n",
    "                    self.table[i][s]+=df\n",
    "                    return df\n",
    "        return 0\n",
    "    \n",
    "    def flow(self,s,t):\n",
    "        ans=0\n",
    "        inf=10**20\n",
    "        while True:\n",
    "            self.visit=[False]*(self.n)\n",
    "            df=self.ford(s,t,inf)\n",
    "            if df==0:\n",
    "                break\n",
    "            ans+=df\n",
    "        return ans\n",
    "\n",
    "N,G,E=map(int,input().split())\n",
    "P=[int(i) for i in input().split()]\n",
    "maxflow=FK(N+1)\n",
    "for p in P:\n",
    "    maxflow.add(p,N,1)\n",
    "for i in range(E):\n",
    "    a,b=map(int,input().split())\n",
    "    maxflow.add(a,b,1)\n",
    "    maxflow.add(b,a,1)\n",
    "ans=maxflow.flow(0,N)\n",
    "print(ans)"
   ]
  },
  {
   "cell_type": "markdown",
   "metadata": {},
   "source": [
    "セグメントツリー　AOJ Course Range Minimum Query (RMQ)"
   ]
  },
  {
   "cell_type": "code",
   "execution_count": null,
   "metadata": {},
   "outputs": [],
   "source": [
    "class Segmenttree_min():\n",
    "    def __init__(self,number):\n",
    "        n=1\n",
    "        inf=(1<<31)-1\n",
    "        while n<number:\n",
    "            n*=2\n",
    "        self.n=n\n",
    "        self.list=[inf]*(2*n-1)\n",
    "    \n",
    "    def add(self,i,x):#0indexed ith add x\n",
    "        i+=self.n-1\n",
    "        self.list[i]=x\n",
    "        while i>0:\n",
    "            i=(i-1)//2\n",
    "            self.list[i]=min(self.list[2*i+1],self.list[2*i+2])\n",
    "        \n",
    "    def search(self,a,b,k,l,r):#call as search(a,b,0,0,self.n) minimun in [a,b)\n",
    "        if r<=a or b<=l:\n",
    "            return (1<<31)-1\n",
    "        elif a<=l and r<=b:\n",
    "            return self.list[k]\n",
    "        else:\n",
    "            vl=self.search(a,b,2*k+1,l,(l+r)//2)\n",
    "            vr=self.search(a,b,2*k+2,(l+r)//2,r)\n",
    "            return min(vl,vr)\n",
    "\n",
    "N,Q=map(int,input().split())\n",
    "ans=[]\n",
    "tree=Segmenttree_min(N)\n",
    "for i in range(Q):\n",
    "    c,x,y=map(int,input().split())\n",
    "    if c==0:\n",
    "        tree.add(x,y)\n",
    "    else:\n",
    "        ans.append(tree.search(x,y+1,0,0,tree.n))\n",
    "print('\\n'.join(map(str,ans)))"
   ]
  },
  {
   "cell_type": "code",
   "execution_count": null,
   "metadata": {},
   "outputs": [],
   "source": [
    "class Segmenttree_max():\n",
    "    def __init__(self,number):\n",
    "        n=1\n",
    "        while n<number:\n",
    "            n*=2\n",
    "        self.n=n\n",
    "        self.list=[0]*(2*n-1)\n",
    "    \n",
    "    def add(self,i,x):#0indexed ith add x\n",
    "        i+=self.n-1\n",
    "        self.list[i]=x\n",
    "        while i>0:\n",
    "            i=(i-1)//2\n",
    "            self.list[i]=max(self.list[2*i+1],self.list[2*i+2])\n",
    "        \n",
    "    def search(self,a,b,k,l,r):#call as search(a,b,0,0,self.n) maximum in [a,b)\n",
    "        if r<=a or b<=l:\n",
    "            return 0\n",
    "        elif a<=l and r<=b:\n",
    "            return self.list[k]\n",
    "        else:\n",
    "            vl=self.search(a,b,2*k+1,l,(l+r)//2)\n",
    "            vr=self.search(a,b,2*k+2,(l+r)//2,r)\n",
    "            return max(vl,vr)"
   ]
  },
  {
   "cell_type": "code",
   "execution_count": null,
   "metadata": {},
   "outputs": [],
   "source": [
    "class Segmenttree_sum():\n",
    "    def __init__(self,number):\n",
    "        n=1\n",
    "        while n<number:\n",
    "            n*=2\n",
    "        self.n=n\n",
    "        self.list=[0]*(2*n-1)\n",
    "    \n",
    "    def add(self,i,x):#0indexed ith add x\n",
    "        i+=self.n-1\n",
    "        self.list[i]=+x\n",
    "        while i>0:\n",
    "            i=(i-1)//2\n",
    "            self.list[i]=self.list[2*i+1]+self.list[2*i+2]\n",
    "        \n",
    "    def search(self,a,b,k,l,r):#call as search(a,b,0,0,self.n) sum in [a,b)\n",
    "        if r<=a or b<=l:\n",
    "            return 0\n",
    "        elif a<=l and r<=b:\n",
    "            return self.list[k]\n",
    "        else:\n",
    "            vl=self.search(a,b,2*k+1,l,(l+r)//2)\n",
    "            vr=self.search(a,b,2*k+2,(l+r)//2,r)\n",
    "            return vl+vr"
   ]
  },
  {
   "cell_type": "markdown",
   "metadata": {},
   "source": [
    "BITの実装"
   ]
  },
  {
   "cell_type": "code",
   "execution_count": null,
   "metadata": {},
   "outputs": [],
   "source": [
    "class BIT():\n",
    "    def __init__(self,number):\n",
    "        self.n=number\n",
    "        self.list=[0]*(number+1)\n",
    "        \n",
    "    def add(self,i,x):#ith added x  1indexed\n",
    "        while i<=self.n:\n",
    "            self.list[i]+=x\n",
    "            i+=i&-i\n",
    "            \n",
    "    def search(self,i):#1-i sum\n",
    "        s=0\n",
    "        while i>0:\n",
    "            s+=self.list[i]\n",
    "            i-=i&-i\n",
    "        return s\n",
    "    \n",
    "    def suma(self,i,j):#i,i+1,..j sum\n",
    "        return self.search(j)-self.search(i-1)\n",
    "N=8\n",
    "tree=BIT(N)\n",
    "A=[3,2,4,2,6,3,7,2]\n",
    "for i in range(1,N+1):\n",
    "    tree.add(i,A[i-1])\n",
    "\n",
    "tree.search(6)#20\n",
    "tree.suma(3,6) #15\n",
    "tree.list#[0, 3, 5, 4, 11, 6, 9, 7, 29]"
   ]
  },
  {
   "cell_type": "markdown",
   "metadata": {},
   "source": [
    "トポロジカルソート　ABland Yard"
   ]
  },
  {
   "cell_type": "code",
   "execution_count": null,
   "metadata": {},
   "outputs": [],
   "source": [
    "import sys\n",
    "from collections import deque\n",
    "N,M=map(int,input().split())\n",
    "s=input()\n",
    "table=[]\n",
    "for i in range(M):\n",
    "    x,y=map(int,input().split())\n",
    "    table.append((x-1,y-1))\n",
    "edge=[[]for i in range(2*N)]\n",
    "visit=[0]*(2*N)\n",
    "for x,y in table:\n",
    "    if x==y:\n",
    "        edge[2*x].append(2*x+1)\n",
    "        visit[2*x+1]+=1\n",
    "        continue\n",
    "    if s[x]==s[y]:\n",
    "        edge[2*x].append(2*y+1)\n",
    "        edge[2*y].append(2*x+1)\n",
    "        visit[2*x+1]+=1\n",
    "        visit[2*y+1]+=1\n",
    "        continue\n",
    "    edge[2*x+1].append(2*y)\n",
    "    edge[2*y+1].append(2*x)\n",
    "    visit[2*x]+=1\n",
    "    visit[2*y]+=1\n",
    "S=set()\n",
    "L=deque()\n",
    "\n",
    "for i in range(2*N):\n",
    "    if visit[i]==0:\n",
    "        L.append(i)\n",
    "\n",
    "while L:\n",
    "    x=L.pop()\n",
    "    S.add(x)\n",
    "    for y in edge[x]:\n",
    "        visit[y]-=1\n",
    "        if visit[y]==0:\n",
    "            L.append(y)\n",
    "if len(S)!=2*N:\n",
    "    print('Yes')\n",
    "else:\n",
    "    print('No')\n"
   ]
  },
  {
   "cell_type": "code",
   "execution_count": null,
   "metadata": {},
   "outputs": [],
   "source": [
    "import sys\n",
    "from collections import deque\n",
    "N,M=map(int,input().split())\n",
    "s=input()\n",
    "table=[]\n",
    "for i in range(M):\n",
    "    x,y=map(int,input().split())\n",
    "    table.append((x-1,y-1))\n",
    "A=[0]*N\n",
    "B=[0]*N\n",
    "edge=[[] for i in range(N)]\n",
    "S=[False]*N\n",
    "L=deque()\n",
    "for x,y in table:\n",
    "    if x==y:\n",
    "        #edge[x].append(y)\n",
    "        if s[x]=='A':\n",
    "            A[x]+=1\n",
    "        else:\n",
    "            B[x]+=1\n",
    "        continue\n",
    "    edge[x].append(y)\n",
    "    edge[y].append(x)\n",
    "    if s[x]=='A':\n",
    "        A[y]+=1\n",
    "    else:\n",
    "        B[y]+=1\n",
    "    if s[y]=='A':\n",
    "        A[x]+=1\n",
    "    else:\n",
    "        B[x]+=1 \n",
    "        \n",
    "for i in range(N):\n",
    "    if A[i]*B[i]==0:\n",
    "        L.append(i)\n",
    "        S[i]=True\n",
    "\n",
    "while L:\n",
    "    x=L.pop()\n",
    "    t=s[x]\n",
    "    for y in edge[x]:\n",
    "        if S[y]:\n",
    "            continue\n",
    "        if t=='A':\n",
    "            A[y]-=1\n",
    "        else:\n",
    "            B[y]-=1\n",
    "        if A[y]*B[y]==0:\n",
    "            L.append(y)\n",
    "            S[y]=True\n",
    "if sum(S)!=N:\n",
    "    print('Yes')\n",
    "else:\n",
    "    print('No')\n"
   ]
  },
  {
   "cell_type": "markdown",
   "metadata": {},
   "source": [
    "トポロジカルソートの一意性　山田山本問題"
   ]
  },
  {
   "cell_type": "code",
   "execution_count": null,
   "metadata": {},
   "outputs": [],
   "source": [
    "import sys\n",
    "from heapq import heappop,heappush\n",
    "N=int(input())\n",
    "a=ord('a')\n",
    "alpha=['a','b','c','d','e','f','g','h','i','j','k','l','m','n','o','p','q','r','s','t','u','v','w','x','y','z']\n",
    "table=[]\n",
    "for i in range(N):\n",
    "    x,y=map(str,input().split())\n",
    "    table.append((x,y))\n",
    "\n",
    "\n",
    "\n",
    "Nin=[0]*26\n",
    "Nout=[0]*26\n",
    "Lin=[[] for i in range(26)]\n",
    "Lout=[[] for i in range(26)]\n",
    "for x,y in table:\n",
    "    Flag=True\n",
    "    for i in range(min(len(x),len(y))):\n",
    "        if x[i]!=y[i]:\n",
    "            Lin[ord(y[i])-a].append(ord(x[i])-a)\n",
    "            Lout[ord(x[i])-a].append(ord(y[i])-a)\n",
    "            Nin[ord(y[i])-a]+=1\n",
    "            Nout[ord(x[i])-a]+=1\n",
    "            Flag=False\n",
    "            break\n",
    "            print(i,x[i],y[i])\n",
    "    if Flag and len(x)>len(y):\n",
    "        print(-1)\n",
    "        sys.exit()\n",
    "ans=[]\n",
    "h=[]\n",
    "for i in range(26):\n",
    "    if Nin[i]==0:\n",
    "        heappush(h,(i,0))\n",
    "while h:\n",
    "    i,q=heappop(h)\n",
    "    ans.append(i)\n",
    "    for j in Lout[i]:\n",
    "        Nin[j]-=1\n",
    "        if Nin[j]==0:\n",
    "            heappush(h,(j,q+1))\n",
    "if len(ans)!=26:\n",
    "    print(-1)\n",
    "    sys.exit()\n",
    "t=''\n",
    "for i in ans:\n",
    "    t+=alpha[i]\n",
    "print(t)\n"
   ]
  },
  {
   "cell_type": "markdown",
   "metadata": {},
   "source": [
    "徒競走 トポロジカルソートの数え上げ"
   ]
  },
  {
   "cell_type": "code",
   "execution_count": null,
   "metadata": {},
   "outputs": [],
   "source": [
    "import sys\n",
    "sys.setrecursionlimit(10**7)\n",
    "N,M=map(int,input().split())\n",
    "table=[]\n",
    "for i in range(M):\n",
    "    x,y=map(int,input().split())\n",
    "    table.append((x-1,y-1))\n",
    "dp=[-1]*(1<<N)\n",
    "def dfs(i):\n",
    "    if i==0:\n",
    "        dp[i]=1\n",
    "        return 1\n",
    "    if dp[i]!=-1:\n",
    "        return dp[i]\n",
    "    t=i\n",
    "    for x,y in table:\n",
    "        if (i&(1<<x))and (i & (1<<y)):\n",
    "            if t&(1<<x):\n",
    "                t=t^(1<<x)\n",
    "    an=0\n",
    "    for x in range(N):\n",
    "        if t & (1<<x):\n",
    "            an+=dfs(i^(1<<x))\n",
    "    dp[i]=an\n",
    "    return an\n",
    "print(dfs((1<<N)-1))"
   ]
  },
  {
   "cell_type": "markdown",
   "metadata": {},
   "source": [
    "マラソン 時間を６秒に収める術"
   ]
  },
  {
   "cell_type": "code",
   "execution_count": null,
   "metadata": {},
   "outputs": [],
   "source": [
    "#!/usr/bin/env python3\n",
    "import sys\n",
    "try: from typing import Any, Union, List, Tuple, Dict\n",
    "except ImportError: pass\n",
    "sys.setrecursionlimit(10**6)\n",
    "def debug(*args): print(*args, file=sys.stderr)\n",
    "def exit(): sys.exit(0)\n",
    "from random import randrange\n",
    "from datetime import datetime\n",
    "\n",
    "\n",
    "start = datetime.now()\n",
    "N = 100\n",
    "A = []                          # type: List[List[int]]\n",
    "for n in range(N):\n",
    "    row = list(map(int, input().split()))\n",
    "    A.append(row)\n",
    "\n",
    "\n",
    "def yama(B, x, y, h):\n",
    "    for i in range(N):\n",
    "        for j in range(N):\n",
    "            B[i][j] += max(0, h - abs(i-x) - abs(j-y))\n",
    "\n",
    "\n",
    "def height(B, x, y, d):\n",
    "    h = N\n",
    "    for i in range(x-d, x+d):\n",
    "        for j in range(y-d, y+d):\n",
    "            if (0 <= i < N) and (0 <= j < N):\n",
    "                if A[i][j] < B[i][j]:\n",
    "                    return 0\n",
    "                dist = abs(i-x) + abs(j-y)\n",
    "                h = min(h, dist+A[i][j]-B[i][j])\n",
    "    return h\n",
    "\n",
    "B = [[0]*N for _ in range(N)]\n",
    "Q = 0\n",
    "params = []\n",
    "d = 10\n",
    "while (Q < 1000) and ((datetime.now() - start).seconds < 5):\n",
    "    x = randrange(N)\n",
    "    y = randrange(N)\n",
    "    # h_max = min(N, max(0, A[x][y] - B[x][y]))\n",
    "    h_max = height(B, x, y, d)\n",
    "    if h_max >= 1:\n",
    "        # h = randrange(1, h_max+1)\n",
    "        h = h_max\n",
    "        params.append((x, y, h))\n",
    "        Q += 1\n",
    "        yama(B, x, y, h)\n",
    "print(Q)\n",
    "for p in params:\n",
    "    x, y, h = p\n",
    "    print(x, y, h)"
   ]
  },
  {
   "cell_type": "markdown",
   "metadata": {},
   "source": [
    "中国人剰余定理\n",
    "\n",
    "http://kmjp.hatenablog.jp/entry/2015/04/20/0930"
   ]
  },
  {
   "cell_type": "code",
   "execution_count": null,
   "metadata": {},
   "outputs": [],
   "source": [
    "#拡張ユークリッド\n",
    "def ext_gcd(p,q):\n",
    "    if q==0:\n",
    "        return (p,1,0)\n",
    "    g,y,x = ext_gcd(q,p%q);\n",
    "    y -= (p//q)*x\n",
    "    return (g,x,y)\n",
    "#２項間の中国人剰余定理(ans,lcm(M))\n",
    "def cmt(a1,mo1,a2,mo2):\n",
    "    g,x,y=ext_gcd(mo1,mo2)\n",
    "    a1%=mo1\n",
    "    a2%=mo2\n",
    "    if a1%g != a2%g:\n",
    "        return (-1,0)\n",
    "    lcm=mo1*(mo2//g)\n",
    "    v=a1+((a2-a1)%lcm)*x%lcm*(mo1//g)\n",
    "    return (((v%lcm)+lcm) % lcm,lcm)\n",
    "#ans,lcm(M)\n",
    "def cmtmat(B,M):\n",
    "    r=0\n",
    "    m=1\n",
    "    for i in range(len(B)):\n",
    "        r,m=cmt(r,m,B[i],M[i])\n",
    "        if r==-1 and m==0:\n",
    "            return (-1,0)\n",
    "    return (r,m)"
   ]
  },
  {
   "cell_type": "markdown",
   "metadata": {},
   "source": [
    "中国人剰余定理\n",
    "\n",
    "https://qiita.com/drken/items/ae02240cd1f8edfc86fd"
   ]
  },
  {
   "cell_type": "code",
   "execution_count": null,
   "metadata": {},
   "outputs": [],
   "source": [
    "#拡張ユークリッド\n",
    "def extgcd(x, y):\n",
    "    c0, c1 = x, y\n",
    "    a0, a1 = 1, 0\n",
    "    b0, b1 = 0, 1\n",
    " \n",
    "    while c1 != 0:\n",
    "        m = c0 % c1\n",
    "        q = c0 // c1\n",
    " \n",
    "        c0, c1 = c1, m\n",
    "        a0, a1 = a1, (a0 - q * a1)\n",
    "        b0, b1 = b1, (b0 - q * b1)\n",
    " \n",
    "    return c0, a0, b0#c0がgcd,(a0*x+b0*y=d=c0)\n",
    "#中国剰余定理\n",
    "#BがあまりMがmod\n",
    "#リターン値を (r, m) とすると解は x ≡ r (mod. m)m=gcd(M),r\n",
    "#解なしの場合は (0, -1) をリターン\n",
    "def ChineseRem(B,M):\n",
    "    r=0\n",
    "    m=1\n",
    "    for i in range(len(B)):\n",
    "        d,p,q=extgcd(m,M[i])\n",
    "        if (B[i]-r)%d!=0:\n",
    "            return (0,-1)\n",
    "        tmp=(((B[i]-r)//d)*p)%(M[i]//d)\n",
    "        r+=m*tmp\n",
    "        m*=M[i]//d\n",
    "    return (r,m)"
   ]
  },
  {
   "cell_type": "markdown",
   "metadata": {},
   "source": [
    "souble-sweep 木の直径"
   ]
  },
  {
   "cell_type": "code",
   "execution_count": null,
   "metadata": {},
   "outputs": [],
   "source": [
    "#souble-sweep 木の直径\n",
    "import sys\n",
    "N=int(input())\n",
    "a=-1\n",
    "v=-1\n",
    "for i in range(2,N+1):\n",
    "    print(\"? {0} {1}\".format(1, i))\n",
    "    sys.stdout.flush()\n",
    "    dist = int(input())\n",
    "    if dist>a:\n",
    "        a=dist\n",
    "        v=i\n",
    "ans=-1\n",
    "for i in range(1,N+1):\n",
    "    if i==v:\n",
    "        continue\n",
    "    print(\"? {0} {1}\".format(v, i))\n",
    "    sys.stdout.flush()\n",
    "    dist = int(input())\n",
    "    if dist>ans:\n",
    "        ans=dist\n",
    "print(\"!\",ans)"
   ]
  }
 ],
 "metadata": {
  "kernelspec": {
   "display_name": "Python 3",
   "language": "python",
   "name": "python3"
  },
  "language_info": {
   "codemirror_mode": {
    "name": "ipython",
    "version": 3
   },
   "file_extension": ".py",
   "mimetype": "text/x-python",
   "name": "python",
   "nbconvert_exporter": "python",
   "pygments_lexer": "ipython3",
   "version": "3.6.3"
  },
  "toc": {
   "base_numbering": 1,
   "nav_menu": {},
   "number_sections": true,
   "sideBar": true,
   "skip_h1_title": false,
   "title_cell": "Table of Contents",
   "title_sidebar": "Contents",
   "toc_cell": false,
   "toc_position": {},
   "toc_section_display": true,
   "toc_window_display": false
  }
 },
 "nbformat": 4,
 "nbformat_minor": 2
}
